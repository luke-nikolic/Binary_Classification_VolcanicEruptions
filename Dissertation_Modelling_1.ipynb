{
  "cells": [
    {
      "cell_type": "markdown",
      "metadata": {
        "id": "mROrFj-qu5dD"
      },
      "source": [
        "# Dissertation Modelling - preprocessing + ANN + RF + SHAP\n"
      ]
    },
    {
      "cell_type": "code",
      "source": [
        "from google.colab import files\n",
        "uploaded = files.upload()\n"
      ],
      "metadata": {
        "colab": {
          "base_uri": "https://localhost:8080/",
          "height": 73
        },
        "id": "ESGvCDWEcGks",
        "outputId": "3b69b2e5-7744-4852-f26e-34b0e993ffeb"
      },
      "execution_count": null,
      "outputs": [
        {
          "output_type": "display_data",
          "data": {
            "text/plain": [
              "<IPython.core.display.HTML object>"
            ],
            "text/html": [
              "\n",
              "     <input type=\"file\" id=\"files-5dd37b9b-68cd-434d-97d5-1f85b314b6bc\" name=\"files[]\" multiple disabled\n",
              "        style=\"border:none\" />\n",
              "     <output id=\"result-5dd37b9b-68cd-434d-97d5-1f85b314b6bc\">\n",
              "      Upload widget is only available when the cell has been executed in the\n",
              "      current browser session. Please rerun this cell to enable.\n",
              "      </output>\n",
              "      <script>// Copyright 2017 Google LLC\n",
              "//\n",
              "// Licensed under the Apache License, Version 2.0 (the \"License\");\n",
              "// you may not use this file except in compliance with the License.\n",
              "// You may obtain a copy of the License at\n",
              "//\n",
              "//      http://www.apache.org/licenses/LICENSE-2.0\n",
              "//\n",
              "// Unless required by applicable law or agreed to in writing, software\n",
              "// distributed under the License is distributed on an \"AS IS\" BASIS,\n",
              "// WITHOUT WARRANTIES OR CONDITIONS OF ANY KIND, either express or implied.\n",
              "// See the License for the specific language governing permissions and\n",
              "// limitations under the License.\n",
              "\n",
              "/**\n",
              " * @fileoverview Helpers for google.colab Python module.\n",
              " */\n",
              "(function(scope) {\n",
              "function span(text, styleAttributes = {}) {\n",
              "  const element = document.createElement('span');\n",
              "  element.textContent = text;\n",
              "  for (const key of Object.keys(styleAttributes)) {\n",
              "    element.style[key] = styleAttributes[key];\n",
              "  }\n",
              "  return element;\n",
              "}\n",
              "\n",
              "// Max number of bytes which will be uploaded at a time.\n",
              "const MAX_PAYLOAD_SIZE = 100 * 1024;\n",
              "\n",
              "function _uploadFiles(inputId, outputId) {\n",
              "  const steps = uploadFilesStep(inputId, outputId);\n",
              "  const outputElement = document.getElementById(outputId);\n",
              "  // Cache steps on the outputElement to make it available for the next call\n",
              "  // to uploadFilesContinue from Python.\n",
              "  outputElement.steps = steps;\n",
              "\n",
              "  return _uploadFilesContinue(outputId);\n",
              "}\n",
              "\n",
              "// This is roughly an async generator (not supported in the browser yet),\n",
              "// where there are multiple asynchronous steps and the Python side is going\n",
              "// to poll for completion of each step.\n",
              "// This uses a Promise to block the python side on completion of each step,\n",
              "// then passes the result of the previous step as the input to the next step.\n",
              "function _uploadFilesContinue(outputId) {\n",
              "  const outputElement = document.getElementById(outputId);\n",
              "  const steps = outputElement.steps;\n",
              "\n",
              "  const next = steps.next(outputElement.lastPromiseValue);\n",
              "  return Promise.resolve(next.value.promise).then((value) => {\n",
              "    // Cache the last promise value to make it available to the next\n",
              "    // step of the generator.\n",
              "    outputElement.lastPromiseValue = value;\n",
              "    return next.value.response;\n",
              "  });\n",
              "}\n",
              "\n",
              "/**\n",
              " * Generator function which is called between each async step of the upload\n",
              " * process.\n",
              " * @param {string} inputId Element ID of the input file picker element.\n",
              " * @param {string} outputId Element ID of the output display.\n",
              " * @return {!Iterable<!Object>} Iterable of next steps.\n",
              " */\n",
              "function* uploadFilesStep(inputId, outputId) {\n",
              "  const inputElement = document.getElementById(inputId);\n",
              "  inputElement.disabled = false;\n",
              "\n",
              "  const outputElement = document.getElementById(outputId);\n",
              "  outputElement.innerHTML = '';\n",
              "\n",
              "  const pickedPromise = new Promise((resolve) => {\n",
              "    inputElement.addEventListener('change', (e) => {\n",
              "      resolve(e.target.files);\n",
              "    });\n",
              "  });\n",
              "\n",
              "  const cancel = document.createElement('button');\n",
              "  inputElement.parentElement.appendChild(cancel);\n",
              "  cancel.textContent = 'Cancel upload';\n",
              "  const cancelPromise = new Promise((resolve) => {\n",
              "    cancel.onclick = () => {\n",
              "      resolve(null);\n",
              "    };\n",
              "  });\n",
              "\n",
              "  // Wait for the user to pick the files.\n",
              "  const files = yield {\n",
              "    promise: Promise.race([pickedPromise, cancelPromise]),\n",
              "    response: {\n",
              "      action: 'starting',\n",
              "    }\n",
              "  };\n",
              "\n",
              "  cancel.remove();\n",
              "\n",
              "  // Disable the input element since further picks are not allowed.\n",
              "  inputElement.disabled = true;\n",
              "\n",
              "  if (!files) {\n",
              "    return {\n",
              "      response: {\n",
              "        action: 'complete',\n",
              "      }\n",
              "    };\n",
              "  }\n",
              "\n",
              "  for (const file of files) {\n",
              "    const li = document.createElement('li');\n",
              "    li.append(span(file.name, {fontWeight: 'bold'}));\n",
              "    li.append(span(\n",
              "        `(${file.type || 'n/a'}) - ${file.size} bytes, ` +\n",
              "        `last modified: ${\n",
              "            file.lastModifiedDate ? file.lastModifiedDate.toLocaleDateString() :\n",
              "                                    'n/a'} - `));\n",
              "    const percent = span('0% done');\n",
              "    li.appendChild(percent);\n",
              "\n",
              "    outputElement.appendChild(li);\n",
              "\n",
              "    const fileDataPromise = new Promise((resolve) => {\n",
              "      const reader = new FileReader();\n",
              "      reader.onload = (e) => {\n",
              "        resolve(e.target.result);\n",
              "      };\n",
              "      reader.readAsArrayBuffer(file);\n",
              "    });\n",
              "    // Wait for the data to be ready.\n",
              "    let fileData = yield {\n",
              "      promise: fileDataPromise,\n",
              "      response: {\n",
              "        action: 'continue',\n",
              "      }\n",
              "    };\n",
              "\n",
              "    // Use a chunked sending to avoid message size limits. See b/62115660.\n",
              "    let position = 0;\n",
              "    do {\n",
              "      const length = Math.min(fileData.byteLength - position, MAX_PAYLOAD_SIZE);\n",
              "      const chunk = new Uint8Array(fileData, position, length);\n",
              "      position += length;\n",
              "\n",
              "      const base64 = btoa(String.fromCharCode.apply(null, chunk));\n",
              "      yield {\n",
              "        response: {\n",
              "          action: 'append',\n",
              "          file: file.name,\n",
              "          data: base64,\n",
              "        },\n",
              "      };\n",
              "\n",
              "      let percentDone = fileData.byteLength === 0 ?\n",
              "          100 :\n",
              "          Math.round((position / fileData.byteLength) * 100);\n",
              "      percent.textContent = `${percentDone}% done`;\n",
              "\n",
              "    } while (position < fileData.byteLength);\n",
              "  }\n",
              "\n",
              "  // All done.\n",
              "  yield {\n",
              "    response: {\n",
              "      action: 'complete',\n",
              "    }\n",
              "  };\n",
              "}\n",
              "\n",
              "scope.google = scope.google || {};\n",
              "scope.google.colab = scope.google.colab || {};\n",
              "scope.google.colab._files = {\n",
              "  _uploadFiles,\n",
              "  _uploadFilesContinue,\n",
              "};\n",
              "})(self);\n",
              "</script> "
            ]
          },
          "metadata": {}
        },
        {
          "output_type": "stream",
          "name": "stdout",
          "text": [
            "Saving popa_et_al_2021_wt%_RAI(mol%)_K#(mol%).xlsx to popa_et_al_2021_wt%_RAI(mol%)_K#(mol%).xlsx\n"
          ]
        }
      ]
    },
    {
      "cell_type": "code",
      "execution_count": null,
      "metadata": {
        "id": "eRWss7M_wBrf"
      },
      "outputs": [],
      "source": [
        "# Import data from excel\n",
        "\n",
        "import pandas as pd\n",
        "\n",
        "DG_path = \"/content/DiGenova_database_wt%_RAI(mol%)_K#(mol%).xlsx\"\n",
        "Popa_path = \"/content/popa_et_al_2021_wt%_RAI(mol%)_K#(mol%).xlsx\"\n",
        "\n",
        "DG_workbook = pd.read_excel(DG_path, sheet_name = None, engine = \"openpyxl\")\n",
        "Popa_workbook = pd.read_excel(Popa_path, sheet_name = None, engine = \"openpyxl\")\n",
        "\n",
        "# Now workbooks stored in these variables\n",
        "\n"
      ]
    },
    {
      "cell_type": "code",
      "execution_count": null,
      "metadata": {
        "id": "MkoAhT-qwJl3"
      },
      "outputs": [],
      "source": [
        "# ## Accessing sheets\n",
        "\n",
        "# ## Di Genova\n",
        "\n",
        "FMQ_DG_df = DG_workbook[\"FMQ\"]\n",
        "\n"
      ]
    },
    {
      "cell_type": "code",
      "execution_count": null,
      "metadata": {
        "id": "g9ckjX_YwJtW"
      },
      "outputs": [],
      "source": [
        "# ## Popa\n",
        "\n",
        "FMQ_popa_df = Popa_workbook[\"FMQ\"]\n"
      ]
    },
    {
      "cell_type": "code",
      "source": [
        "# Extracting colnames for both data sets to see which columns they have in common:\n",
        "\n",
        "FMQ_DG_columns = FMQ_DG_df.columns.tolist()\n",
        "FMQ_popa_columns = FMQ_popa_df.columns.tolist()\n",
        "FMQ_DG_columns_df = pd.DataFrame(FMQ_DG_columns, columns=['Di Genova Variables'])\n",
        "FMQ_popa_columns_df = pd.DataFrame(FMQ_popa_columns, columns=['Popa Variables'])\n",
        "\n"
      ],
      "metadata": {
        "id": "bKtgwB1yym57"
      },
      "execution_count": null,
      "outputs": []
    },
    {
      "cell_type": "code",
      "source": [
        "# Finding number of missing values per column (encoded as 0s in data set), for both data sets\n",
        "\n",
        "# DG\n",
        "\n",
        "missing_values_per_column_DG = FMQ_DG_df.apply(lambda x: (x==0).sum(), axis=0)\n",
        "missing_values_df_DG = pd.DataFrame(missing_values_per_column_DG, columns=['Number of missing values'])\n",
        "missing_values_df_DG['Proportion (%)'] = (missing_values_per_column_DG / FMQ_DG_df.shape[0])*100\n",
        "\n",
        "print(missing_values_df_DG)\n"
      ],
      "metadata": {
        "id": "qPTbjRarwRhN"
      },
      "execution_count": null,
      "outputs": []
    },
    {
      "cell_type": "code",
      "source": [
        "\n",
        "\n",
        "\n",
        "# Popa missing values after removal of rows\n",
        "\n",
        "missing_values_per_column_popa = FMQ_popa_df.apply(lambda x: (x==0).sum(), axis=0)\n",
        "missing_values_df_popa = pd.DataFrame(missing_values_per_column_popa, columns=['Number of missing values'])\n",
        "missing_values_df_popa['Proportion'] = (missing_values_per_column_popa / FMQ_popa_df.shape[0])*100\n",
        "\n",
        "print(missing_values_df_popa)\n"
      ],
      "metadata": {
        "id": "tAowbx2wwR8Q"
      },
      "execution_count": null,
      "outputs": []
    },
    {
      "cell_type": "code",
      "execution_count": null,
      "metadata": {
        "id": "tdaTGc711t5P"
      },
      "outputs": [],
      "source": [
        "## Add eruptive_type binary column and move variables to global environment\n",
        "\n",
        "\n",
        "DG_list_initial = [FMQ_DG_df]\n",
        "\n",
        "# Step 2: Add the \"eruptive_type\" column to each DataFrame\n",
        "# Loop through  add the new column\n",
        "for df in DG_list_initial:\n",
        "    # Create a new column with 0s for the first 571 rows, and 1s for the rest\n",
        "    df['eruptive_type'] = [0] * 571 + [1] * (len(df) - 571)\n",
        "\n",
        "\n",
        "# Step 4: Remove columns\n",
        "columns_to_remove = [0, 2, 3, 9, 12, 15, 16, 17, 18] # taken out col 1 from removal\n",
        "\n",
        "for df in DG_list_initial:\n",
        "    df.drop(columns=df.columns[columns_to_remove], axis=1, inplace=True)\n",
        "\n",
        "# Step 5: Assign DataFrame to global environment\n",
        "for i, df in enumerate(DG_list_initial):\n",
        "    globals()[f'df{i+1}'] = df\n",
        "\n",
        "\n"
      ]
    },
    {
      "cell_type": "code",
      "execution_count": null,
      "metadata": {
        "id": "NKGBDcKw1t_G"
      },
      "outputs": [],
      "source": [
        "# Now DG dataset in right form. Do the same for Popa\n",
        "\n",
        "\n",
        "Popa_list_initial = [FMQ_popa_df]\n",
        "\n",
        "\n",
        "for df in Popa_list_initial:\n",
        "    # Use the apply() function with a lambda function to map \"effusive\" to 0 and \"explosive\" to 1\n",
        "    df['eruptive_type'] = df['Eruptive style'].apply(lambda x: 0 if x == 'effusive' else 1)\n",
        "\n",
        "\n",
        "columns_popa_remove = [1,2,3,4,5,15] # taken out col 0 from removal (see top of code script)\n",
        "\n",
        "\n",
        "for df in Popa_list_initial:\n",
        "    df.drop(columns=df.columns[columns_popa_remove], axis=1, inplace=True)\n",
        "\n",
        "# Step 5: Assign DataFrames to global environment\n",
        "for i, df in enumerate(Popa_list_initial):\n",
        "    globals()[f'df{i+1}'] = df\n"
      ]
    },
    {
      "cell_type": "code",
      "source": [
        "# Renaming first column of Popa data set so that df in right form to be concatenated with DG\n",
        "\n",
        "FMQ_popa_df.rename(columns={'Volcano and Eruption': 'Volcano'}, inplace=True)"
      ],
      "metadata": {
        "id": "3Ey8tp539BQg"
      },
      "execution_count": null,
      "outputs": []
    },
    {
      "cell_type": "code",
      "execution_count": null,
      "metadata": {
        "id": "voZCLsyZ1uD-"
      },
      "outputs": [],
      "source": [
        "# Now data sets in right form to be concatenated\n",
        "\n",
        "combined_FMQ_df = pd.concat([FMQ_DG_df, FMQ_popa_df], axis=0,ignore_index = True)\n",
        "\n"
      ]
    },
    {
      "cell_type": "code",
      "source": [
        "# Data frame of missing values in combined FMQ data set\n",
        "\n",
        "missing_values_per_column_combined = combined_FMQ_df.apply(lambda x: (x==0).sum(), axis=0)\n",
        "missing_values_df_combined = pd.DataFrame(missing_values_per_column_combined, columns=['Number of missing values'])\n",
        "missing_values_df_combined['Proportion (%)'] = (missing_values_per_column_combined / combined_FMQ_df.shape[0])*100\n",
        "\n",
        "print(missing_values_df_combined)\n",
        "\n"
      ],
      "metadata": {
        "id": "Ovihq8xD74Dh"
      },
      "execution_count": null,
      "outputs": []
    },
    {
      "cell_type": "code",
      "source": [
        "# Removing rows which have variables that take a value of 0 i.e missing values\n",
        "\n",
        "# Select all columns except the last one and check if any of them are equal to 0\n",
        "zero_in_columns_FMQ = combined_FMQ_df.iloc[:, :-1].eq(0).any(axis=1)\n",
        "\n",
        "# Keep only the rows where none of the selected columns have a value of 0\n",
        "combined_FMQ_clean_RANGE_df = combined_FMQ_df.loc[~zero_in_columns_FMQ]\n",
        "\n",
        "# Reset index to align properly with stored columns\n",
        "combined_FMQ_clean_RANGE_df.reset_index(drop=True, inplace=True)\n"
      ],
      "metadata": {
        "id": "UB5M1QLr5T6q"
      },
      "execution_count": null,
      "outputs": []
    },
    {
      "cell_type": "code",
      "source": [
        "combined_FMQ_clean_RANGE_df.shape\n",
        "\n",
        "# Ends up being 41 observations removed"
      ],
      "metadata": {
        "colab": {
          "base_uri": "https://localhost:8080/"
        },
        "id": "fkRQjSiu6zy-",
        "outputId": "60368f2d-17b1-48bb-e93a-8bbc915bcdc6"
      },
      "execution_count": null,
      "outputs": [
        {
          "output_type": "execute_result",
          "data": {
            "text/plain": [
              "(1137, 13)"
            ]
          },
          "metadata": {},
          "execution_count": 10
        }
      ]
    },
    {
      "cell_type": "code",
      "source": [
        "# Producing dataframes that can be imported into R\n",
        "\n",
        "\n",
        "R_combined_FMQ_clean_RANGE_df = combined_FMQ_clean_RANGE_df\n",
        "R_combined_FMQ_clean_RANGE_df.to_csv('python_combined_FMQ.csv', index=False)\n",
        "from google.colab import files\n",
        "\n",
        "files.download('python_combined_FMQ.csv')\n",
        "\n",
        "\n",
        "\n",
        "\n",
        "\n",
        "\n",
        "\n"
      ],
      "metadata": {
        "colab": {
          "base_uri": "https://localhost:8080/",
          "height": 17
        },
        "id": "2qnZoX3NQ9y0",
        "outputId": "bcd7c8a3-1071-47ce-995d-3b52832c1081"
      },
      "execution_count": null,
      "outputs": [
        {
          "output_type": "display_data",
          "data": {
            "text/plain": [
              "<IPython.core.display.Javascript object>"
            ],
            "application/javascript": [
              "\n",
              "    async function download(id, filename, size) {\n",
              "      if (!google.colab.kernel.accessAllowed) {\n",
              "        return;\n",
              "      }\n",
              "      const div = document.createElement('div');\n",
              "      const label = document.createElement('label');\n",
              "      label.textContent = `Downloading \"${filename}\": `;\n",
              "      div.appendChild(label);\n",
              "      const progress = document.createElement('progress');\n",
              "      progress.max = size;\n",
              "      div.appendChild(progress);\n",
              "      document.body.appendChild(div);\n",
              "\n",
              "      const buffers = [];\n",
              "      let downloaded = 0;\n",
              "\n",
              "      const channel = await google.colab.kernel.comms.open(id);\n",
              "      // Send a message to notify the kernel that we're ready.\n",
              "      channel.send({})\n",
              "\n",
              "      for await (const message of channel.messages) {\n",
              "        // Send a message to notify the kernel that we're ready.\n",
              "        channel.send({})\n",
              "        if (message.buffers) {\n",
              "          for (const buffer of message.buffers) {\n",
              "            buffers.push(buffer);\n",
              "            downloaded += buffer.byteLength;\n",
              "            progress.value = downloaded;\n",
              "          }\n",
              "        }\n",
              "      }\n",
              "      const blob = new Blob(buffers, {type: 'application/binary'});\n",
              "      const a = document.createElement('a');\n",
              "      a.href = window.URL.createObjectURL(blob);\n",
              "      a.download = filename;\n",
              "      div.appendChild(a);\n",
              "      a.click();\n",
              "      div.remove();\n",
              "    }\n",
              "  "
            ]
          },
          "metadata": {}
        },
        {
          "output_type": "display_data",
          "data": {
            "text/plain": [
              "<IPython.core.display.Javascript object>"
            ],
            "application/javascript": [
              "download(\"download_daab4bbc-b65e-4e04-ae40-16a98f2f7459\", \"python_combined_FMQ.csv\", 249571)"
            ]
          },
          "metadata": {}
        }
      ]
    },
    {
      "cell_type": "code",
      "execution_count": null,
      "metadata": {
        "id": "n-X7N7ObeL2e"
      },
      "outputs": [],
      "source": [
        "# Install clr package\n",
        "\n",
        "!pip install scikit-bio"
      ]
    },
    {
      "cell_type": "code",
      "execution_count": null,
      "metadata": {
        "id": "F-tqnhdDYA-T"
      },
      "outputs": [],
      "source": [
        "# Import\n",
        "\n",
        "import numpy as np\n",
        "from sklearn.model_selection import train_test_split\n",
        "from sklearn.preprocessing import StandardScaler\n",
        "import tensorflow as tf\n",
        "import matplotlib.pyplot as plt\n",
        "import seaborn as sns\n",
        "from skbio.stats.composition import clr"
      ]
    },
    {
      "cell_type": "code",
      "execution_count": null,
      "metadata": {
        "id": "rfyVxAWQaUNB"
      },
      "outputs": [],
      "source": [
        "!pip install shap"
      ]
    },
    {
      "cell_type": "code",
      "execution_count": null,
      "metadata": {
        "colab": {
          "base_uri": "https://localhost:8080/"
        },
        "id": "X6jST1ueVIny",
        "outputId": "d28ff4a0-c117-424b-be7e-8aa9408d32f7"
      },
      "outputs": [
        {
          "output_type": "stream",
          "name": "stderr",
          "text": [
            "Using `tqdm.autonotebook.tqdm` in notebook mode. Use `tqdm.tqdm` instead to force console mode (e.g. in jupyter console)\n"
          ]
        }
      ],
      "source": [
        "# SHAP analysis for clr-transformed data set with logistic regression model\n",
        "\n",
        "import numpy as np\n",
        "import pandas as pd\n",
        "from sklearn.linear_model import LogisticRegression\n",
        "from sklearn.model_selection import train_test_split\n",
        "from sklearn.preprocessing import StandardScaler\n",
        "from sklearn.metrics import accuracy_score\n",
        "import shap\n"
      ]
    },
    {
      "cell_type": "code",
      "source": [
        "# Trying to see which volcanoes/volcanic systems dominate the data\n",
        "\n",
        "\n",
        "volcano_counts = combined_FMQ_clean_RANGE_df.groupby('Volcano').size().reset_index(name='Number of Observations')\n",
        "\n",
        "# Sort the dataframe by 'Number of Observations' in descending order to see which volcanoes are most prevalent\n",
        "volcano_counts_sorted = volcano_counts.sort_values(by='Number of Observations', ascending=False)\n",
        "\n",
        "pd.set_option('display.max_rows', None)\n",
        "# Display the sorted dataframe\n",
        "print(volcano_counts_sorted)\n",
        "\n",
        "\n",
        "\n"
      ],
      "metadata": {
        "id": "bdQVRGu26JdF"
      },
      "execution_count": null,
      "outputs": []
    },
    {
      "cell_type": "code",
      "source": [
        "import pandas as pd\n",
        "\n",
        "\n",
        "\n",
        "def consolidate_volcano_names(name):\n",
        "    # A list of keywords for each major volcano\n",
        "    volcanoes = [\"Yellowstone\", \"Santiaguito\", \"Niijima\", \"Torfajokull\", \"Cordon Caulle\", \"Colima\", \"Crater Lake\",\n",
        "                 \"Dominica Island\", \"Altiplano-Puna\", \"Aniakchak\", \"Apoyeque\", \"Aso\", \"Batur\", \"Bezymianny\",\n",
        "                 \"Ceboruco\", \"Cerro Chascon\", \"Cerro Galan\", \"Cerro Machin\", \"Chaiten\", \"Ciomadul\", \"Medicine Lake\",\n",
        "                 \"Methana\", \"Mono-Inyo\", \"Montserrat\", \"Mt Saint Helens\", \"Mt Spurr\", \"Mt. Dutton\", \"Mt. Erciyes\",\n",
        "                 \"Mt. Shasta\", \"Mangakino Volcanic Centre\", \"El Chicon\", \"Glass Mt and Long Valley\", \"Great Basin\",\n",
        "                 \"Hekla\", \"Inyo Craters\", \"Katmai\", \"Kizimen\", \"Ksudach\", \"Kutcharo\", \"Lake Atitlan\", \"Lassen Volcanic Area\",\n",
        "                 \"Lipari\"]\n",
        "\n",
        "    for volcano in volcanoes:\n",
        "        if volcano in name:\n",
        "            return volcano\n",
        "    return name\n",
        "\n",
        "# Apply the function to consolidate names\n",
        "combined_FMQ_clean_RANGE_df['Consolidated_Volcano'] = combined_FMQ_clean_RANGE_df['Volcano'].apply(consolidate_volcano_names)\n",
        "\n",
        "# Group by the new consolidated column and count the number of observations\n",
        "consolidated_counts = combined_FMQ_clean_RANGE_df.groupby('Consolidated_Volcano').size().reset_index(name='Number of Observations').sort_values(by='Number of Observations', ascending=False)\n",
        "\n",
        "print(consolidated_counts)\n"
      ],
      "metadata": {
        "id": "Osp-7dWt9ZwM"
      },
      "execution_count": null,
      "outputs": []
    },
    {
      "cell_type": "code",
      "source": [
        "# Filter, remove first and last columns, and reset index for Cordon Caulle\n",
        "cordon_caulle_df = combined_FMQ_clean_RANGE_df[combined_FMQ_clean_RANGE_df['Consolidated_Volcano'] == 'Cordon Caulle']\n",
        "cordon_caulle_df = cordon_caulle_df.iloc[:, 1:-1].reset_index(drop=True)\n",
        "\n",
        "# Filter, remove first and last columns, and reset index for Yellowstone\n",
        "yellowstone_df = combined_FMQ_clean_RANGE_df[combined_FMQ_clean_RANGE_df['Consolidated_Volcano'] == 'Yellowstone']\n",
        "yellowstone_df = yellowstone_df.iloc[:, 1:-1].reset_index(drop=True)\n",
        "\n",
        "# Filter, remove first and last columns, and reset index for Lipari\n",
        "lipari_df = combined_FMQ_clean_RANGE_df[combined_FMQ_clean_RANGE_df['Consolidated_Volcano'] == 'Lipari']\n",
        "lipari_df = lipari_df.iloc[:, 1:-1].reset_index(drop=True)\n"
      ],
      "metadata": {
        "id": "LFFXDTe3JTAs"
      },
      "execution_count": null,
      "outputs": []
    },
    {
      "cell_type": "code",
      "source": [
        "# Non-yellowstone\n",
        "\n",
        "# Filter out Yellowstone, remove first and last columns, and reset index\n",
        "non_yellowstone_df = combined_FMQ_clean_RANGE_df[combined_FMQ_clean_RANGE_df['Consolidated_Volcano'] != 'Yellowstone']\n",
        "non_yellowstone_df = non_yellowstone_df.iloc[:, 1:-1].reset_index(drop=True)\n"
      ],
      "metadata": {
        "id": "ayo1PG45F7Nx"
      },
      "execution_count": null,
      "outputs": []
    },
    {
      "cell_type": "code",
      "source": [
        "non_yellowstone_df.to_csv('non_yellowstone.csv', index=False)"
      ],
      "metadata": {
        "id": "gOdoDBcpF-Cg"
      },
      "execution_count": null,
      "outputs": []
    },
    {
      "cell_type": "code",
      "source": [
        "from google.colab import files\n",
        "\n",
        "files.download('non_yellowstone.csv')"
      ],
      "metadata": {
        "colab": {
          "base_uri": "https://localhost:8080/",
          "height": 17
        },
        "id": "MPcQchmmGFnY",
        "outputId": "78b4ccb7-b53f-4f3d-818f-abe34aa9410d"
      },
      "execution_count": null,
      "outputs": [
        {
          "output_type": "display_data",
          "data": {
            "text/plain": [
              "<IPython.core.display.Javascript object>"
            ],
            "application/javascript": [
              "\n",
              "    async function download(id, filename, size) {\n",
              "      if (!google.colab.kernel.accessAllowed) {\n",
              "        return;\n",
              "      }\n",
              "      const div = document.createElement('div');\n",
              "      const label = document.createElement('label');\n",
              "      label.textContent = `Downloading \"${filename}\": `;\n",
              "      div.appendChild(label);\n",
              "      const progress = document.createElement('progress');\n",
              "      progress.max = size;\n",
              "      div.appendChild(progress);\n",
              "      document.body.appendChild(div);\n",
              "\n",
              "      const buffers = [];\n",
              "      let downloaded = 0;\n",
              "\n",
              "      const channel = await google.colab.kernel.comms.open(id);\n",
              "      // Send a message to notify the kernel that we're ready.\n",
              "      channel.send({})\n",
              "\n",
              "      for await (const message of channel.messages) {\n",
              "        // Send a message to notify the kernel that we're ready.\n",
              "        channel.send({})\n",
              "        if (message.buffers) {\n",
              "          for (const buffer of message.buffers) {\n",
              "            buffers.push(buffer);\n",
              "            downloaded += buffer.byteLength;\n",
              "            progress.value = downloaded;\n",
              "          }\n",
              "        }\n",
              "      }\n",
              "      const blob = new Blob(buffers, {type: 'application/binary'});\n",
              "      const a = document.createElement('a');\n",
              "      a.href = window.URL.createObjectURL(blob);\n",
              "      a.download = filename;\n",
              "      div.appendChild(a);\n",
              "      a.click();\n",
              "      div.remove();\n",
              "    }\n",
              "  "
            ]
          },
          "metadata": {}
        },
        {
          "output_type": "display_data",
          "data": {
            "text/plain": [
              "<IPython.core.display.Javascript object>"
            ],
            "application/javascript": [
              "download(\"download_8b47412e-c2e0-4de7-9e8b-9f1c50fcc481\", \"non_yellowstone.csv\", 176870)"
            ]
          },
          "metadata": {}
        }
      ]
    },
    {
      "cell_type": "code",
      "source": [
        "# Import different dfs into R for post-modelling EDA\n",
        "\n",
        "cordon_caulle_df.to_csv('cordon_caulle.csv', index=False)\n",
        "yellowstone_df.to_csv('yellowstone.csv', index=False)\n",
        "lipari_df.to_csv('lipari.csv', index=False)\n"
      ],
      "metadata": {
        "id": "Hr5aPb_hNjkR"
      },
      "execution_count": null,
      "outputs": []
    },
    {
      "cell_type": "code",
      "source": [
        "from google.colab import files\n",
        "\n",
        "files.download('cordon_caulle.csv')\n",
        "files.download('yellowstone.csv')\n",
        "files.download('lipari.csv')\n"
      ],
      "metadata": {
        "colab": {
          "base_uri": "https://localhost:8080/",
          "height": 17
        },
        "id": "HG0t_MVhOn3p",
        "outputId": "5db09700-2850-4ead-e2a0-4199c4cc2aac"
      },
      "execution_count": null,
      "outputs": [
        {
          "output_type": "display_data",
          "data": {
            "text/plain": [
              "<IPython.core.display.Javascript object>"
            ],
            "application/javascript": [
              "\n",
              "    async function download(id, filename, size) {\n",
              "      if (!google.colab.kernel.accessAllowed) {\n",
              "        return;\n",
              "      }\n",
              "      const div = document.createElement('div');\n",
              "      const label = document.createElement('label');\n",
              "      label.textContent = `Downloading \"${filename}\": `;\n",
              "      div.appendChild(label);\n",
              "      const progress = document.createElement('progress');\n",
              "      progress.max = size;\n",
              "      div.appendChild(progress);\n",
              "      document.body.appendChild(div);\n",
              "\n",
              "      const buffers = [];\n",
              "      let downloaded = 0;\n",
              "\n",
              "      const channel = await google.colab.kernel.comms.open(id);\n",
              "      // Send a message to notify the kernel that we're ready.\n",
              "      channel.send({})\n",
              "\n",
              "      for await (const message of channel.messages) {\n",
              "        // Send a message to notify the kernel that we're ready.\n",
              "        channel.send({})\n",
              "        if (message.buffers) {\n",
              "          for (const buffer of message.buffers) {\n",
              "            buffers.push(buffer);\n",
              "            downloaded += buffer.byteLength;\n",
              "            progress.value = downloaded;\n",
              "          }\n",
              "        }\n",
              "      }\n",
              "      const blob = new Blob(buffers, {type: 'application/binary'});\n",
              "      const a = document.createElement('a');\n",
              "      a.href = window.URL.createObjectURL(blob);\n",
              "      a.download = filename;\n",
              "      div.appendChild(a);\n",
              "      a.click();\n",
              "      div.remove();\n",
              "    }\n",
              "  "
            ]
          },
          "metadata": {}
        },
        {
          "output_type": "display_data",
          "data": {
            "text/plain": [
              "<IPython.core.display.Javascript object>"
            ],
            "application/javascript": [
              "download(\"download_a8929863-bbf5-4b1a-b322-d665b06fb213\", \"cordon_caulle.csv\", 49299)"
            ]
          },
          "metadata": {}
        },
        {
          "output_type": "display_data",
          "data": {
            "text/plain": [
              "<IPython.core.display.Javascript object>"
            ],
            "application/javascript": [
              "\n",
              "    async function download(id, filename, size) {\n",
              "      if (!google.colab.kernel.accessAllowed) {\n",
              "        return;\n",
              "      }\n",
              "      const div = document.createElement('div');\n",
              "      const label = document.createElement('label');\n",
              "      label.textContent = `Downloading \"${filename}\": `;\n",
              "      div.appendChild(label);\n",
              "      const progress = document.createElement('progress');\n",
              "      progress.max = size;\n",
              "      div.appendChild(progress);\n",
              "      document.body.appendChild(div);\n",
              "\n",
              "      const buffers = [];\n",
              "      let downloaded = 0;\n",
              "\n",
              "      const channel = await google.colab.kernel.comms.open(id);\n",
              "      // Send a message to notify the kernel that we're ready.\n",
              "      channel.send({})\n",
              "\n",
              "      for await (const message of channel.messages) {\n",
              "        // Send a message to notify the kernel that we're ready.\n",
              "        channel.send({})\n",
              "        if (message.buffers) {\n",
              "          for (const buffer of message.buffers) {\n",
              "            buffers.push(buffer);\n",
              "            downloaded += buffer.byteLength;\n",
              "            progress.value = downloaded;\n",
              "          }\n",
              "        }\n",
              "      }\n",
              "      const blob = new Blob(buffers, {type: 'application/binary'});\n",
              "      const a = document.createElement('a');\n",
              "      a.href = window.URL.createObjectURL(blob);\n",
              "      a.download = filename;\n",
              "      div.appendChild(a);\n",
              "      a.click();\n",
              "      div.remove();\n",
              "    }\n",
              "  "
            ]
          },
          "metadata": {}
        },
        {
          "output_type": "display_data",
          "data": {
            "text/plain": [
              "<IPython.core.display.Javascript object>"
            ],
            "application/javascript": [
              "download(\"download_45c059fc-18d6-4801-a077-d5a344a43dfc\", \"yellowstone.csv\", 44560)"
            ]
          },
          "metadata": {}
        },
        {
          "output_type": "display_data",
          "data": {
            "text/plain": [
              "<IPython.core.display.Javascript object>"
            ],
            "application/javascript": [
              "\n",
              "    async function download(id, filename, size) {\n",
              "      if (!google.colab.kernel.accessAllowed) {\n",
              "        return;\n",
              "      }\n",
              "      const div = document.createElement('div');\n",
              "      const label = document.createElement('label');\n",
              "      label.textContent = `Downloading \"${filename}\": `;\n",
              "      div.appendChild(label);\n",
              "      const progress = document.createElement('progress');\n",
              "      progress.max = size;\n",
              "      div.appendChild(progress);\n",
              "      document.body.appendChild(div);\n",
              "\n",
              "      const buffers = [];\n",
              "      let downloaded = 0;\n",
              "\n",
              "      const channel = await google.colab.kernel.comms.open(id);\n",
              "      // Send a message to notify the kernel that we're ready.\n",
              "      channel.send({})\n",
              "\n",
              "      for await (const message of channel.messages) {\n",
              "        // Send a message to notify the kernel that we're ready.\n",
              "        channel.send({})\n",
              "        if (message.buffers) {\n",
              "          for (const buffer of message.buffers) {\n",
              "            buffers.push(buffer);\n",
              "            downloaded += buffer.byteLength;\n",
              "            progress.value = downloaded;\n",
              "          }\n",
              "        }\n",
              "      }\n",
              "      const blob = new Blob(buffers, {type: 'application/binary'});\n",
              "      const a = document.createElement('a');\n",
              "      a.href = window.URL.createObjectURL(blob);\n",
              "      a.download = filename;\n",
              "      div.appendChild(a);\n",
              "      a.click();\n",
              "      div.remove();\n",
              "    }\n",
              "  "
            ]
          },
          "metadata": {}
        },
        {
          "output_type": "display_data",
          "data": {
            "text/plain": [
              "<IPython.core.display.Javascript object>"
            ],
            "application/javascript": [
              "download(\"download_ce2c5df4-b910-46e9-8d2a-9bbf91696c80\", \"lipari.csv\", 28729)"
            ]
          },
          "metadata": {}
        }
      ]
    },
    {
      "cell_type": "code",
      "source": [
        "unique_volcanoes_cleaned = combined_FMQ_clean_RANGE_df.iloc[:, 0].unique()\n",
        " # print(unique_volcanoes_cleaned)\n",
        "\n",
        " # Now clean list further to remove duplictes + include manual addition\n",
        "\n",
        "unique_volcanoes_cleaned_2 = set()\n",
        "for name in unique_volcanoes_cleaned:\n",
        "    main_name = name.split(\",\")[0].split(\"(\")[0].strip()\n",
        "    unique_volcanoes_cleaned_2.add(main_name)\n",
        "\n",
        "# Sort for easier reading\n",
        "sorted_volcanoes = sorted(list(unique_volcanoes_cleaned_2))\n",
        "\n",
        "print(sorted_volcanoes)"
      ],
      "metadata": {
        "id": "QrFrYrajB8ig"
      },
      "execution_count": null,
      "outputs": []
    },
    {
      "cell_type": "code",
      "source": [
        "cleaned_volcanoes = [\n",
        "    'Yellowstone',\n",
        "    'Lipari',\n",
        "    'Newberry',\n",
        "    'Vulcano',\n",
        "    'Douglas Knob',\n",
        "    'Cordon Caulle',\n",
        "    'Milos',\n",
        "    'Mt Jemez (USA)',\n",
        "    'Obsidian (MX)',\n",
        "    'Mt Edziza',\n",
        "    'Askja',\n",
        "    'Torfajokull',\n",
        "    'Hrafntinnuhryggur',\n",
        "    'Easter Islands',\n",
        "    'Okataina (NZ)',\n",
        "    'Mono-Inyo',\n",
        "    'Glass Mountain (USA)',\n",
        "    'Medicine Lake',\n",
        "    'Panum Craters',\n",
        "    'Chaiten',\n",
        "    'Cerro Galan',\n",
        "    'Santorini',\n",
        "    'Kos Plateau',\n",
        "    'Taupo',\n",
        "    'Mt Katmai',\n",
        "    'Bishop Tuff',\n",
        "    'Mt Pinatubo',\n",
        "    'Tarawera',\n",
        "    'Toluca',\n",
        "    'Oraefajokull',\n",
        "    'El Chichon',\n",
        "    'Montserrat',\n",
        "    'Nisyros',\n",
        "    'Yali',\n",
        "    'Methana',\n",
        "    'Mt. Erciyes',\n",
        "    'Ciomadul',\n",
        "    'Hekla',\n",
        "    'Thingmuli',\n",
        "    'Bezymianny',\n",
        "    'Kizimen',\n",
        "    'Katmai',\n",
        "    'Ksudach',\n",
        "    'Aniakchak',\n",
        "    'Mt Spurr',\n",
        "    'Mt. Dutton',\n",
        "    'Mt Staint Helens',\n",
        "    'Mt. Shasta',\n",
        "    'Lassen Volcanic Area',\n",
        "    'San Juan Volcanic Field',\n",
        "    'Crater Lake, Oregon',\n",
        "    'Inyo Craters',\n",
        "    'Great Basin',\n",
        "    'Toquima range, Nevada',\n",
        "    'Popocatepetl',\n",
        "    'Los Humeros',\n",
        "    'Colima',\n",
        "    'Ceboruco',\n",
        "    'Tequila',\n",
        "    'San Antonio, Tacana',\n",
        "    'Santa Maria',\n",
        "    'Santiaguito',\n",
        "    'Lake Atitlan',\n",
        "    'Pacaya',\n",
        "    'Apoyeque',\n",
        "    'Cerro Machin',\n",
        "    'Quilotoa',\n",
        "    'Andes, Bolivia',\n",
        "    'Altiplano, South America',\n",
        "    'Nevado de Longavi',\n",
        "    'Quizapu',\n",
        "    'Dominica Island',\n",
        "    'Unzen',\n",
        "    'Kutcharo',\n",
        "    'Aso',\n",
        "    'Niijima',\n",
        "    'Ruapehu',\n",
        "    'Tauhara volcano',\n",
        "    'Tongariro',\n",
        "    'Okataina Volcanic Center',\n",
        "    'Mangakino Volcanic Centre',\n",
        "    'Galunggung',\n",
        "    'Rinjani',\n",
        "    'Batur',\n",
        "    'Pinatubo'\n",
        "]\n"
      ],
      "metadata": {
        "id": "soVHDtMeFoGW"
      },
      "execution_count": null,
      "outputs": []
    },
    {
      "cell_type": "code",
      "source": [
        "\n",
        "# !pip install googlemaps\n",
        "\n",
        "import googlemaps\n",
        "from getpass import getpass\n",
        "import pandas as pd\n",
        "\n",
        "# Enter your API key securely\n",
        "API_KEY = getpass(\"API Key here: \")\n",
        "\n",
        "gmaps = googlemaps.Client(key=API_KEY)\n",
        "\n",
        "\n",
        "latitudes = []\n",
        "longitudes = []\n",
        "\n",
        "for name in cleaned_volcanoes:\n",
        "    print(f\"Fetching coordinates for {name}...\")\n",
        "    geocode_result = gmaps.geocode(name + \" volcano\")\n",
        "    if geocode_result:\n",
        "        latitudes.append(geocode_result[0][\"geometry\"][\"location\"][\"lat\"])\n",
        "        longitudes.append(geocode_result[0][\"geometry\"][\"location\"][\"lng\"])\n",
        "    else:\n",
        "        print(f\"Failed to fetch coordinates for {name}.\")\n",
        "        latitudes.append(None)\n",
        "        longitudes.append(None)\n",
        "\n",
        "df_volcano_coords = pd.DataFrame({\n",
        "    'name': cleaned_volcanoes,\n",
        "    'latitude': latitudes,\n",
        "    'longitude': longitudes\n",
        "})\n",
        "\n",
        "print(df_volcano_coords)\n"
      ],
      "metadata": {
        "id": "nyP4O6d_vvo3"
      },
      "execution_count": null,
      "outputs": []
    },
    {
      "cell_type": "code",
      "source": [
        "# Now have df with lats + longs for volcanoes\n",
        "!pip install geopandas\n",
        "\n"
      ],
      "metadata": {
        "id": "pthjlf26BJAe"
      },
      "execution_count": null,
      "outputs": []
    },
    {
      "cell_type": "code",
      "source": [
        "import numpy as np\n",
        "import geopandas as gpd\n",
        "import matplotlib.pyplot as plt\n"
      ],
      "metadata": {
        "id": "ISWbGlyQ3uAC"
      },
      "execution_count": null,
      "outputs": []
    },
    {
      "cell_type": "code",
      "source": [
        "# Create a GeoDataFrame from your DataFrame\n",
        "gdf = gpd.GeoDataFrame(df_volcano_coords_clean, geometry=gpd.points_from_xy(df_volcano_coords_clean.longitude, df_volcano_coords_clean.latitude))\n",
        "\n",
        "# Create the figure and axis\n",
        "fig, ax = plt.subplots(figsize=(15, 10))\n",
        "\n",
        "# Use Geopandas to plot the world map\n",
        "world = gpd.read_file(gpd.datasets.get_path('naturalearth_lowres'))\n",
        "world.boundary.plot(ax=ax, linewidth=1)\n",
        "world.plot(ax=ax, color='lightblue')\n",
        "\n",
        "# Plot the volcano locations\n",
        "gdf.plot(ax=ax, color='red', markersize=20)\n",
        "\n",
        "# Adjust plot settings and display\n",
        "plt.title('Locations of Volcanoes Present in Cleaned Data Set')\n",
        "plt.xlabel('Longitude')\n",
        "plt.ylabel('Latitude')\n",
        "plt.grid(True, which='both', linestyle='--', linewidth=0.5)\n",
        "plt.savefig('volcano_map.png', dpi=300, bbox_inches='tight')\n",
        "plt.show()\n"
      ],
      "metadata": {
        "colab": {
          "base_uri": "https://localhost:8080/",
          "height": 718
        },
        "id": "0SqtB9Pv3t9m",
        "outputId": "71d96c54-de5a-4243-a290-3d4dedbbf179"
      },
      "execution_count": null,
      "outputs": [
        {
          "output_type": "stream",
          "name": "stderr",
          "text": [
            "<ipython-input-66-840990c62d14>:8: FutureWarning: The geopandas.dataset module is deprecated and will be removed in GeoPandas 1.0. You can get the original 'naturalearth_lowres' data from https://www.naturalearthdata.com/downloads/110m-cultural-vectors/.\n",
            "  world = gpd.read_file(gpd.datasets.get_path('naturalearth_lowres'))\n"
          ]
        },
        {
          "output_type": "display_data",
          "data": {
            "text/plain": [
              "<Figure size 1500x1000 with 1 Axes>"
            ],
            "image/png": "[encoded data removed]"
          },
          "metadata": {}
        }
      ]
    },
    {
      "cell_type": "code",
      "source": [
        "# Remove \"Volcano\" column before performing CLR and conslidated column\n",
        "\n",
        "combined_FMQ_clean_RANGE_df.drop(combined_FMQ_clean_RANGE_df.columns[0], axis = 1, inplace = True)\n",
        "\n",
        "\n",
        "# combined_FMQ_clean_RANGE_df.drop(combined_FMQ_clean_RANGE_df.columns[-1], axis = 1, inplace = True) << uncomment if including consilidated\n",
        "\n",
        "\n"
      ],
      "metadata": {
        "colab": {
          "base_uri": "https://localhost:8080/"
        },
        "id": "jbOf9wGLA3Ma",
        "outputId": "b9611e71-af2b-43a3-ff67-e473b7e01df9"
      },
      "execution_count": null,
      "outputs": [
        {
          "output_type": "stream",
          "name": "stderr",
          "text": [
            "\n",
            "A value is trying to be set on a copy of a slice from a DataFrame\n",
            "\n",
            "See the caveats in the documentation: https://pandas.pydata.org/pandas-docs/stable/user_guide/indexing.html#returning-a-view-versus-a-copy\n"
          ]
        }
      ]
    },
    {
      "cell_type": "code",
      "execution_count": null,
      "metadata": {
        "id": "L2E171nNkLZY"
      },
      "outputs": [],
      "source": [
        "# Perform CLR\n",
        "\n",
        "# Now need to also apply centered log ratio transformation to compositional data, (so not on\n",
        "# RAI, K# and eruptive_type columns)\n",
        "\n",
        "import pandas as pd\n",
        "import numpy as np\n",
        "from skbio.stats.composition import clr\n",
        "\n",
        "\n",
        "# Store the columns \"K#\", and \"eruptive_type\" and \"RAI\"\n",
        "RAI_column_FMQ = combined_FMQ_clean_RANGE_df[\"RAI(mol%)\"]\n",
        "k_column_FMQ = combined_FMQ_clean_RANGE_df[\"K#(mol%)\"]\n",
        "eruptive_type_column_FMQ = combined_FMQ_clean_RANGE_df[\"eruptive_type\"]\n",
        "\n",
        "# Drop the columns \"K#\", and \"eruptive_type\" and \"RAI\" from the DataFrame\n",
        "combined_FMQ_clean_RANGE_df.drop(columns=[\"RAI(mol%)\",\"K#(mol%)\", \"eruptive_type\"], inplace=True)\n",
        "\n",
        "# Perform CLR transformation on the DataFrame (assuming all other columns are compositional data)\n",
        "clr_transformed_data_FMQ = clr(combined_FMQ_clean_RANGE_df.values)\n",
        "\n",
        "# Convert the transformed data back to a DataFrame\n",
        "combined_FMQ_clr_transformed_df_RANGE = pd.DataFrame(clr_transformed_data_FMQ, columns=combined_FMQ_clean_RANGE_df.columns)\n",
        "\n",
        "# Add back the columns \"RAI\", \"K#\", and \"eruptive_type\" to the DataFrame\n",
        "combined_FMQ_clr_transformed_df_RANGE[\"RAI(mol%)\"] = RAI_column_FMQ\n",
        "combined_FMQ_clr_transformed_df_RANGE[\"K#(mol%)\"] = k_column_FMQ\n",
        "combined_FMQ_clr_transformed_df_RANGE[\"eruptive_type\"] = eruptive_type_column_FMQ\n"
      ]
    },
    {
      "cell_type": "code",
      "execution_count": null,
      "metadata": {
        "id": "IdRdalH2kMBy"
      },
      "outputs": [],
      "source": [
        "# SHAP analysis, logistic regression, FMQ\n",
        "\n",
        "import numpy as np\n",
        "import pandas as pd\n",
        "from sklearn.linear_model import LogisticRegression\n",
        "from sklearn.model_selection import train_test_split\n",
        "from sklearn.preprocessing import StandardScaler\n",
        "from sklearn.metrics import accuracy_score\n",
        "import shap\n"
      ]
    },
    {
      "cell_type": "code",
      "execution_count": null,
      "metadata": {
        "id": "Y69xTk_Pqdsm"
      },
      "outputs": [],
      "source": [
        "# Preparing to train logistic regression classifier\n",
        "\n",
        "X_clr_FMQ = combined_FMQ_clr_transformed_df_RANGE.iloc[:, :-1]  # Features\n",
        "y_clr_FMQ = combined_FMQ_clr_transformed_df_RANGE.iloc[:, -1]  # Target variable\n",
        "\n",
        "# Split data into training and test (80-20 split)\n",
        "\n",
        "X_train_clr_FMQ, X_test_clr_FMQ, y_train_clr_FMQ, y_test_clr_FMQ = train_test_split(X_clr_FMQ, y_clr_FMQ, test_size=0.2, random_state=42)\n",
        "\n"
      ]
    },
    {
      "cell_type": "code",
      "execution_count": null,
      "metadata": {
        "id": "azz-oI31qdwV"
      },
      "outputs": [],
      "source": [
        "# Standardise data since K# probably on different scale to compositional data since did not undergo\n",
        "# clr\n",
        "\n",
        "scaler_clr_FMQ = StandardScaler()\n",
        "X_train_scaled_clr_FMQ = scaler_clr_FMQ.fit_transform(X_train_clr_FMQ)\n",
        "X_test_scaled_clr_FMQ = scaler_clr_FMQ.transform(X_test_clr_FMQ)\n",
        "\n"
      ]
    },
    {
      "cell_type": "code",
      "execution_count": null,
      "metadata": {
        "id": "mF28HVc3qdzp"
      },
      "outputs": [],
      "source": [
        "# Train logistic regression model\n",
        "tf.random.set_seed(42)\n",
        "model_logr_clr_FMQ = LogisticRegression(random_state=42)\n",
        "model_logr_clr_FMQ.fit(X_train_scaled_clr_FMQ, y_train_clr_FMQ)\n",
        "\n",
        "# Evaluate model\n",
        "\n",
        "y_pred_clr_FMQ = model_logr_clr_FMQ.predict(X_test_scaled_clr_FMQ)\n",
        "print(\"Accuracy: %.4f\" % accuracy_score(y_test_clr_FMQ, y_pred_clr_FMQ))\n"
      ]
    },
    {
      "cell_type": "code",
      "execution_count": null,
      "metadata": {
        "id": "A3-EQWPYqd3B"
      },
      "outputs": [],
      "source": [
        "# Create a SHAP explainer\n",
        "explainer_clr_FMQ = shap.LinearExplainer(model_logr_clr_FMQ, X_train_scaled_clr_FMQ)\n",
        "\n",
        "# Compute SHAP values for the test set\n",
        "shap_values_clr_FMQ = explainer_clr_FMQ.shap_values(X_test_scaled_clr_FMQ)\n"
      ]
    },
    {
      "cell_type": "code",
      "source": [
        "fig, ax = plt.subplots(figsize=(10, 7))\n",
        "\n",
        "# Generate the SHAP summary plot on the defined axes\n",
        "shap.summary_plot(shap_values_clr_FMQ, X_test_scaled_clr_FMQ, feature_names=X_clr_FMQ.columns.tolist(), plot_type=\"dot\", show=False)\n",
        "\n",
        "# Check the plot in Colab directly to ensure it looks as expected\n",
        "plt.show()\n",
        "\n",
        "fig.savefig('shap_logreg_final.png', dpi=300, bbox_inches='tight')"
      ],
      "metadata": {
        "id": "lJfahTgNGxCZ"
      },
      "execution_count": null,
      "outputs": []
    },
    {
      "cell_type": "code",
      "source": [
        "from google.colab import files\n",
        "files.download('shap_logreg_final.png')"
      ],
      "metadata": {
        "colab": {
          "base_uri": "https://localhost:8080/",
          "height": 17
        },
        "id": "tw7SDT3ZGytt",
        "outputId": "cde2258e-6c06-47c1-e858-a9d354e28c8a"
      },
      "execution_count": null,
      "outputs": [
        {
          "output_type": "display_data",
          "data": {
            "text/plain": [
              "<IPython.core.display.Javascript object>"
            ],
            "application/javascript": [
              "\n",
              "    async function download(id, filename, size) {\n",
              "      if (!google.colab.kernel.accessAllowed) {\n",
              "        return;\n",
              "      }\n",
              "      const div = document.createElement('div');\n",
              "      const label = document.createElement('label');\n",
              "      label.textContent = `Downloading \"${filename}\": `;\n",
              "      div.appendChild(label);\n",
              "      const progress = document.createElement('progress');\n",
              "      progress.max = size;\n",
              "      div.appendChild(progress);\n",
              "      document.body.appendChild(div);\n",
              "\n",
              "      const buffers = [];\n",
              "      let downloaded = 0;\n",
              "\n",
              "      const channel = await google.colab.kernel.comms.open(id);\n",
              "      // Send a message to notify the kernel that we're ready.\n",
              "      channel.send({})\n",
              "\n",
              "      for await (const message of channel.messages) {\n",
              "        // Send a message to notify the kernel that we're ready.\n",
              "        channel.send({})\n",
              "        if (message.buffers) {\n",
              "          for (const buffer of message.buffers) {\n",
              "            buffers.push(buffer);\n",
              "            downloaded += buffer.byteLength;\n",
              "            progress.value = downloaded;\n",
              "          }\n",
              "        }\n",
              "      }\n",
              "      const blob = new Blob(buffers, {type: 'application/binary'});\n",
              "      const a = document.createElement('a');\n",
              "      a.href = window.URL.createObjectURL(blob);\n",
              "      a.download = filename;\n",
              "      div.appendChild(a);\n",
              "      a.click();\n",
              "      div.remove();\n",
              "    }\n",
              "  "
            ]
          },
          "metadata": {}
        },
        {
          "output_type": "display_data",
          "data": {
            "text/plain": [
              "<IPython.core.display.Javascript object>"
            ],
            "application/javascript": [
              "download(\"download_f0b24418-f58a-485e-8b88-ae5411ff0a88\", \"shap_logreg_final.png\", 293205)"
            ]
          },
          "metadata": {}
        }
      ]
    },
    {
      "cell_type": "code",
      "execution_count": null,
      "metadata": {
        "id": "jj19-wOhqd6a"
      },
      "outputs": [],
      "source": [
        "# Compute the mean absolute SHAP values for each feature\n",
        "mean_abs_shap_values_clr_FMQ = np.mean(np.abs(shap_values_clr_FMQ), axis=0)\n",
        "\n",
        "# Get the feature names\n",
        "feature_names_clr_FMQ = X_clr_FMQ.columns.tolist()\n",
        "\n",
        "# Create a DataFrame to hold the SHAP values and feature names\n",
        "shap_df_clr_FMQ = pd.DataFrame(list(zip(feature_names_clr_FMQ, mean_abs_shap_values_clr_FMQ)), columns=['Feature','MeanAbsShap'])\n",
        "\n",
        "# Sort the DataFrame by the mean absolute SHAP values\n",
        "# shap_df_clr_FMQ = shap_df_clr_FMQ.sort_values(by='MeanAbsShap', ascending=True)\n",
        "\n",
        "# Plot the vertical bar chart\n",
        "plt.figure(figsize=(10,6))\n",
        "plt.bar(shap_df_clr_FMQ['Feature'], shap_df_clr_FMQ['MeanAbsShap'], color='skyblue')\n",
        "plt.ylabel('Mean Absolute SHAP Value')\n",
        "plt.xlabel('Feature')\n",
        "plt.title('Feature Importance')\n",
        "plt.xticks(rotation=90) # Rotate the x-axis labels if they overlap\n",
        "plt.title(\"Feature Importance, Logistic Regression\")\n",
        "plt.show()\n"
      ]
    },
    {
      "cell_type": "code",
      "execution_count": null,
      "metadata": {
        "id": "hA1u6oNgTPWZ"
      },
      "outputs": [],
      "source": [
        "\n",
        "\n",
        "import numpy as np\n",
        "from sklearn.model_selection import train_test_split\n",
        "from sklearn.preprocessing import StandardScaler\n",
        "import tensorflow as tf\n",
        "import matplotlib.pyplot as plt\n",
        "import seaborn as sns"
      ]
    },
    {
      "cell_type": "code",
      "execution_count": null,
      "metadata": {
        "id": "p8z1QUldGeNM"
      },
      "outputs": [],
      "source": [
        "# Import libraries for hyperparameter optimisation\n",
        "\n",
        "from keras.models import Sequential\n",
        "from keras.layers import Dense\n",
        "from keras.wrappers.scikit_learn import KerasClassifier\n",
        "from sklearn.model_selection import GridSearchCV\n",
        "from sklearn.model_selection import StratifiedKFold\n",
        "from tensorflow.keras.callbacks import EarlyStopping\n"
      ]
    },
    {
      "cell_type": "code",
      "source": [
        "from sklearn.pipeline import Pipeline\n",
        "from sklearn.base import BaseEstimator, TransformerMixin\n",
        "from sklearn.decomposition import PCA\n",
        "from keras.models import Sequential\n",
        "from keras.layers import Dense\n",
        "from keras.wrappers.scikit_learn import KerasClassifier\n",
        "from sklearn.model_selection import GridSearchCV\n",
        "from sklearn.model_selection import StratifiedKFold\n",
        "from tensorflow.keras.callbacks import EarlyStopping\n",
        "from sklearn.preprocessing import StandardScaler\n",
        "import tensorflow as tf\n",
        "\n",
        "tf.random.set_seed(42)\n",
        "\n",
        "class KerasModelWrapper(BaseEstimator, TransformerMixin):\n",
        "    def __init__(self, build_fn=None, epochs=50, batch_size=32, verbose=0, callbacks=None,\n",
        "                 validation_split=0.0, activation='relu', optimizer='adam', hidden_layer1_neurons=4,\n",
        "                 hidden_layer2_neurons=4, hidden_layer3_neurons=4):\n",
        "\n",
        "        self.build_fn = build_fn\n",
        "        self.epochs = epochs\n",
        "        self.batch_size = batch_size\n",
        "        self.verbose = verbose\n",
        "        self.callbacks = callbacks\n",
        "        self.validation_split = validation_split\n",
        "        self.activation = activation\n",
        "        self.optimizer = optimizer\n",
        "        self.hidden_layer1_neurons = hidden_layer1_neurons\n",
        "        self.hidden_layer2_neurons = hidden_layer2_neurons\n",
        "        self.hidden_layer3_neurons = hidden_layer3_neurons\n",
        "        self.model = None\n",
        "\n",
        "    def fit(self, X, y):\n",
        "        self.model = self.build_fn(activation=self.activation, optimizer=self.optimizer,\n",
        "                                   hidden_layer1_neurons=self.hidden_layer1_neurons,\n",
        "                                   hidden_layer2_neurons=self.hidden_layer2_neurons,\n",
        "                                   hidden_layer3_neurons=self.hidden_layer3_neurons)\n",
        "        self.model.fit(X, y, epochs=self.epochs, batch_size=self.batch_size, verbose=self.verbose,\n",
        "                       callbacks=self.callbacks, validation_split=self.validation_split)\n",
        "        return self\n",
        "\n",
        "    def predict(self, X):\n",
        "        return self.model.predict(X)\n",
        "\n",
        "    def score(self, X, y):\n",
        "        return self.model.evaluate(X, y, verbose=self.verbose)[1]  # Assuming that accuracy is the second metric\n",
        "\n",
        "def create_model_FMQ(hidden_layer1_neurons=4, hidden_layer2_neurons=4, hidden_layer3_neurons=4,\n",
        "                     optimizer='adam', activation='relu'):\n",
        "\n",
        "    model = Sequential()\n",
        "    model.add(Dense(hidden_layer1_neurons, input_dim=4, activation=activation))\n",
        "    model.add(Dense(hidden_layer2_neurons, activation=activation))\n",
        "    model.add(Dense(hidden_layer3_neurons, activation=activation))\n",
        "    model.add(Dense(1, activation='sigmoid'))\n",
        "    model.compile(loss='binary_crossentropy', optimizer=optimizer, metrics=['accuracy'])\n",
        "    return model\n",
        "\n",
        "skf_FMQ = StratifiedKFold(n_splits=5, shuffle=True, random_state=42)\n",
        "early_stopping = EarlyStopping(monitor='val_accuracy', patience=5)\n",
        "\n",
        "param_grid = {\n",
        "    'clf__hidden_layer1_neurons': [4, 32, 64, 128],\n",
        "    'clf__hidden_layer2_neurons': [4, 16, 32, 64],\n",
        "    'clf__hidden_layer3_neurons': [4, 8, 16, 32],\n",
        "    'clf__optimizer': ['SGD', 'Adam'],\n",
        "    'clf__activation': ['relu', 'tanh'],\n",
        "}\n",
        "\n",
        "pipeline = Pipeline([\n",
        "    ('scaler', StandardScaler()),\n",
        "    ('pca', PCA(n_components=4)),\n",
        "    ('clf', KerasModelWrapper(build_fn=create_model_FMQ, epochs=50, batch_size=32,\n",
        "                              callbacks=[early_stopping], validation_split=0.2, verbose=0))\n",
        "])\n",
        "\n",
        "grid = GridSearchCV(estimator=pipeline, param_grid=param_grid, cv=skf_FMQ, n_jobs=-1)\n",
        "grid_result = grid.fit(X_clr_FMQ, y_clr_FMQ)\n"
      ],
      "metadata": {
        "id": "Jk7QsllVpF9_"
      },
      "execution_count": null,
      "outputs": []
    },
    {
      "cell_type": "code",
      "execution_count": null,
      "metadata": {
        "colab": {
          "base_uri": "https://localhost:8080/"
        },
        "id": "R06SKHNfYlMe",
        "outputId": "bf88dc0b-3659-4176-f9c7-6fb1d2e04d5f"
      },
      "outputs": [
        {
          "output_type": "stream",
          "name": "stdout",
          "text": [
            "Best: 0.846943 using {'clf__activation': 'relu', 'clf__hidden_layer1_neurons': 128, 'clf__hidden_layer2_neurons': 64, 'clf__hidden_layer3_neurons': 16, 'clf__optimizer': 'Adam'}\n"
          ]
        }
      ],
      "source": [
        "print(\"Best: %f using %s\" % (grid_result.best_score_, grid_result.best_params_))\n",
        "\n",
        "# Results show best model is to use relu, 64,64,8 and adam optimizer\n"
      ]
    },
    {
      "cell_type": "code",
      "source": [
        "# Modifying code so that it does PCA within folds\n",
        "from sklearn.decomposition import PCA\n",
        "\n",
        "scaler_FMQ = StandardScaler()\n",
        "\n",
        "\n",
        "skf_FMQ = StratifiedKFold(n_splits=10, shuffle=True, random_state=42)\n",
        "\n",
        "class_report_NoReg_FMQ = []\n",
        "\n",
        "def create_modelBuffer_NoReg():\n",
        "    # Without regularization\n",
        "    model_Buffer_NoReg = tf.keras.Sequential()\n",
        "    model_Buffer_NoReg.add(tf.keras.layers.Dense(units=128, activation='relu', input_shape=(4,))) # input shape = 4 since 4 PCs\n",
        "    model_Buffer_NoReg.add(tf.keras.layers.Dense(units=64, activation='relu'))\n",
        "    model_Buffer_NoReg.add(tf.keras.layers.Dense(units=16, activation='relu'))\n",
        "    model_Buffer_NoReg.add(tf.keras.layers.Dense(units=1, activation='sigmoid'))\n",
        "\n",
        "    # Compile model\n",
        "    model_Buffer_NoReg.compile(loss='binary_crossentropy', optimizer='adam', metrics=['accuracy'])\n",
        "\n",
        "    return model_Buffer_NoReg\n",
        "\n",
        "early_stopping = EarlyStopping(monitor='val_accuracy', patience=5)\n",
        "# Use this function to create a new instance of your model before each training run:\n",
        "# model_FMQ_NoReg = create_modelBuffer_NoReg()\n",
        "\n",
        "# Cross-Validation\n",
        "from sklearn.metrics import classification_report\n",
        "import pandas as pd\n",
        "import numpy as np\n",
        "\n",
        "\n",
        "for train, test in skf_FMQ.split(X_clr_FMQ, y_clr_FMQ): # Note: Use original unscaled data here\n",
        "    # 1. Split data\n",
        "    X_train, X_test = X_clr_FMQ.iloc[train], X_clr_FMQ.iloc[test]\n",
        "    y_train, y_test = y_clr_FMQ.iloc[train], y_clr_FMQ.iloc[test]\n",
        "\n",
        "    # 2. Fit scaler and PCA on training data\n",
        "    X_train_scaled = scaler_FMQ.fit_transform(X_train)\n",
        "    X_test_scaled = scaler_FMQ.transform(X_test)  # Notice we use transform, not fit_transform\n",
        "\n",
        "    pca_FMQ = PCA(n_components=4)\n",
        "    X_train_pca = pca_FMQ.fit_transform(X_train_scaled)\n",
        "    X_test_pca = pca_FMQ.transform(X_test_scaled) # Again, just transform\n",
        "\n",
        "    # 3. Train the model on transformed training set\n",
        "    model_FMQ_NoReg = create_modelBuffer_NoReg()\n",
        "    model_FMQ_NoReg.fit(X_train_pca, y_train, batch_size=32, epochs=50, validation_split=0.2, callbacks=[early_stopping], verbose=0)\n",
        "\n",
        "    # 4. Evaluate on the transformed testing set\n",
        "    y_pred_NoReg = model_FMQ_NoReg.predict(X_test_pca)\n",
        "    y_pred1 = (y_pred_NoReg > 0.5).astype(int)\n",
        "\n",
        "    report_NoReg = classification_report(y_test, y_pred1, output_dict=True)\n",
        "    class_report_NoReg_FMQ.append(report_NoReg)\n",
        "\n",
        "\n",
        "\n",
        "class0_metrics_NoReg_FMQ = [rep['0'] for rep in class_report_NoReg_FMQ]\n",
        "class1_metrics_NoReg_FMQ = [rep['1'] for rep in class_report_NoReg_FMQ]\n",
        "\n",
        "accuracy_NoReg_FMQ = [rep['accuracy'] for rep in class_report_NoReg_FMQ]\n",
        "\n",
        "mean_class0_NoReg_FMQ = pd.DataFrame(class0_metrics_NoReg_FMQ).mean()\n",
        "mean_class1_NoReg_FMQ = pd.DataFrame(class1_metrics_NoReg_FMQ).mean()\n",
        "\n",
        "mean_accuracy_NoReg_FMQ = np.mean(accuracy_NoReg_FMQ)\n",
        "\n",
        "print(\"Average metrics for Model FMQ NoReg, Class 0:\\n\", mean_class0_NoReg_FMQ)\n",
        "print(\"Average metrics for Model FMQ NoReg, Class 1:\\n\", mean_class1_NoReg_FMQ)\n",
        "print(\"Average accuracy for Model FMQ NoReg:\\n\", mean_accuracy_NoReg_FMQ)\n",
        "\n"
      ],
      "metadata": {
        "id": "kXiTbYfPl0t_"
      },
      "execution_count": null,
      "outputs": []
    },
    {
      "cell_type": "code",
      "execution_count": null,
      "metadata": {
        "id": "okKY1VaKJXB0"
      },
      "outputs": [],
      "source": [
        "def create_modelBuffer_NoReg_clr():\n",
        "    # Without regularization\n",
        "    model_reduced_NoReg = tf.keras.Sequential()\n",
        "    model_reduced_NoReg.add(tf.keras.layers.Dense(units=128, activation='relu', input_shape=(11,)))\n",
        "    model_reduced_NoReg.add(tf.keras.layers.Dense(units=64, activation='relu'))\n",
        "    model_reduced_NoReg.add(tf.keras.layers.Dense(units=16, activation='relu'))\n",
        "    model_reduced_NoReg.add(tf.keras.layers.Dense(units=1, activation='sigmoid'))\n",
        "\n",
        "    # Compile model\n",
        "    model_reduced_NoReg.compile(loss='binary_crossentropy', optimizer='adam', metrics=['accuracy'])\n",
        "\n",
        "    return model_reduced_NoReg"
      ]
    },
    {
      "cell_type": "code",
      "execution_count": null,
      "metadata": {
        "id": "xBHk0vY4XNeR"
      },
      "outputs": [],
      "source": [
        "# SHAP for FMQ data\n",
        "\n",
        "tf.random.set_seed(42)\n",
        "\n",
        "# Train the artificial neural network\n",
        "model_FMQ_NoReg_clr = create_modelBuffer_NoReg_clr()\n",
        "model_FMQ_NoReg_clr.fit(X_train_scaled_clr_FMQ, y_train_clr_FMQ, batch_size=32, epochs=50, validation_split=0.2, callbacks=[early_stopping], verbose=0)\n",
        "\n",
        "# Evaluate the model\n",
        "y_pred_clr_FMQ_ANN = (model_FMQ_NoReg_clr.predict(X_test_scaled_clr_FMQ) > 0.5).astype(int)\n",
        "print(\"Accuracy: %.4f\" % accuracy_score(y_test_clr_FMQ, y_pred_clr_FMQ_ANN))\n",
        "\n",
        "\n",
        "\n"
      ]
    },
    {
      "cell_type": "code",
      "execution_count": null,
      "metadata": {
        "id": "L0vDfeYSXNhr"
      },
      "outputs": [],
      "source": [
        "# Create a SHAP explainer\n",
        "explainer_clr_FMQ_ANN = shap.DeepExplainer(model_FMQ_NoReg_clr, X_train_scaled_clr_FMQ)\n",
        "\n",
        "# Compute SHAP values for the test set\n",
        "shap_values_clr_FMQ_ANN = explainer_clr_FMQ_ANN.shap_values(X_test_scaled_clr_FMQ)\n",
        "\n",
        "# Compute the mean absolute SHAP values for each feature\n",
        "mean_abs_shap_values_clr_FMQ_ANN = np.mean(np.abs(shap_values_clr_FMQ_ANN[0]), axis=0) # Note the indexing into the result\n",
        "\n",
        "# Get the feature names\n",
        "feature_names_clr_FMQ_ANN = X_clr_FMQ.columns.tolist()\n",
        "\n",
        "# Create a DataFrame to hold the SHAP values and feature names\n",
        "shap_df_clr_FMQ_ANN = pd.DataFrame(list(zip(feature_names_clr_FMQ_ANN, mean_abs_shap_values_clr_FMQ_ANN)), columns=['Feature','MeanAbsShap'])\n",
        "\n",
        "# Sort the DataFrame by the mean absolute SHAP values\n",
        "# shap_df_clr_FMQ_ANN = shap_df_clr_FMQ_ANN.sort_values(by='MeanAbsShap', ascending=True)\n",
        "\n",
        "# Plot the vertical bar chart\n",
        "plt.figure(figsize=(10,6))\n",
        "plt.bar(shap_df_clr_FMQ_ANN['Feature'], shap_df_clr_FMQ_ANN['MeanAbsShap'], color='skyblue')\n",
        "plt.ylabel('Mean Absolute SHAP Value')\n",
        "plt.xlabel('Feature')\n",
        "plt.title('Feature Importance')\n",
        "plt.xticks(rotation=90) # Rotate the x-axis labels if they overlap\n",
        "plt.title(\"Feature Importance, Neural Network\")\n",
        "plt.show()"
      ]
    },
    {
      "cell_type": "code",
      "source": [
        "fig, ax = plt.subplots(figsize=(10, 7))\n",
        "\n",
        "shap_values_for_model_FMQ_ANN = shap_values_clr_FMQ_ANN[0]\n",
        "\n",
        "shap.summary_plot(shap_values_for_model_FMQ_ANN, X_test_scaled_clr_FMQ, feature_names=X_clr_FMQ.columns.tolist())\n",
        "\n",
        "# Check the plot in Colab directly to ensure it looks as expected\n",
        "plt.show()\n",
        "\n",
        "fig.savefig('shap_ANN_final.png', dpi=300, bbox_inches='tight')\n",
        "\n",
        "from google.colab import files\n",
        "files.download('shap_ANN_final.png')"
      ],
      "metadata": {
        "id": "hswI_tJ2JTgs"
      },
      "execution_count": null,
      "outputs": []
    },
    {
      "cell_type": "code",
      "source": [],
      "metadata": {
        "id": "3fuJsmZDJIt2"
      },
      "execution_count": null,
      "outputs": []
    },
    {
      "cell_type": "code",
      "source": [
        "### AUC score calculation but with PCA done for each individual fold\n",
        "\n",
        "\n",
        "\n",
        "from sklearn.metrics import roc_curve, auc\n",
        "\n",
        "# Create a common set of false positive rate values\n",
        "common_fpr = np.linspace(0, 1, 100)\n",
        "\n",
        "# Initialize lists to hold the interpolated TPR and AUC for each fold\n",
        "avg_tpr_list = []\n",
        "auc_list = []\n",
        "scaler_FMQ = StandardScaler()\n",
        "\n",
        "# Remember to use the original unscaled data for the split\n",
        "for train, test in skf_FMQ.split(X_clr_FMQ, y_clr_FMQ):\n",
        "    # 1. Split data\n",
        "    X_train, X_test = X_clr_FMQ.iloc[train], X_clr_FMQ.iloc[test]\n",
        "    y_train, y_test = y_clr_FMQ.iloc[train], y_clr_FMQ.iloc[test]\n",
        "\n",
        "    # 2. Fit scaler and PCA on training data\n",
        "    X_train_scaled = scaler_FMQ.fit_transform(X_train)\n",
        "    X_test_scaled = scaler_FMQ.transform(X_test)  # Use transform, not fit_transform\n",
        "\n",
        "    pca_FMQ = PCA(n_components=4)\n",
        "    X_train_pca = pca_FMQ.fit_transform(X_train_scaled)\n",
        "    X_test_pca = pca_FMQ.transform(X_test_scaled) # Again, just transform\n",
        "\n",
        "    # 3. Train the model on transformed training set\n",
        "    model_FMQ_NoReg = create_modelBuffer_NoReg()\n",
        "    model_FMQ_NoReg.fit(X_train_pca, y_train, batch_size=32, epochs=100, validation_split=0.2, callbacks=[early_stopping], verbose=0)\n",
        "\n",
        "    # 4. Make predictions on the transformed test set\n",
        "    y_pred_prob = model_FMQ_NoReg.predict(X_test_pca).ravel()\n",
        "\n",
        "    # Compute ROC curve for this fold\n",
        "    fpr, tpr, _ = roc_curve(y_test, y_pred_prob, pos_label=1)  # Assuming the positive class is labeled as 1\n",
        "\n",
        "    # Interpolate the TPR for the common FPR values\n",
        "    interp_tpr = np.interp(common_fpr, fpr, tpr)\n",
        "    avg_tpr_list.append(interp_tpr)\n",
        "\n",
        "    # Compute AUC for this fold\n",
        "    fold_auc = auc(fpr, tpr)\n",
        "    auc_list.append(fold_auc)\n",
        "\n",
        "# Compute the average AUC\n",
        "avg_auc = np.mean(auc_list)\n",
        "\n",
        "# Compute the average interpolated TPR\n",
        "avg_tpr = np.mean(avg_tpr_list, axis=0)\n",
        "\n",
        "print(\"Average AUC across 10 folds:\", avg_auc)\n",
        "\n",
        "\n",
        "\n",
        "\n",
        "\n"
      ],
      "metadata": {
        "id": "2gDLhiOSmWEB"
      },
      "execution_count": null,
      "outputs": []
    },
    {
      "cell_type": "code",
      "execution_count": null,
      "metadata": {
        "id": "Ybpcok8lXN3J"
      },
      "outputs": [],
      "source": [
        "import matplotlib.pyplot as plt\n",
        "\n",
        "common_fpr = np.linspace(0, 1, 100)\n",
        "# Assuming avg_tpr is your average True Positive Rate computed earlier\n",
        "\n",
        "# Create the plot\n",
        "fig, ax = plt.subplots(figsize=(10,7))\n",
        "\n",
        "# Plot the average ROC curve\n",
        "ax.plot(common_fpr, avg_tpr, color='black', label=f'Average ROC Curve (AUC = {avg_auc:.2f})')\n",
        "\n",
        "# Plot the random classifier line\n",
        "ax.plot([0, 1], [0, 1], linestyle='dashed', color='red', label='Random Classifier (AUC = 0.5)')\n",
        "\n",
        "# Plot the perfect classifier line\n",
        "ax.plot([0, 0, 1], [0, 1, 1], linestyle='dashed', color='green', label='Perfect Classifier (AUC = 1.0)')\n",
        "\n",
        "# Customize the plot\n",
        "# ax.set_title('Average ROC Curve from Stratified 10-fold Cross-Validation (Artificial Neural Network)', fontsize = 24)\n",
        "ax.set_xlabel('False Positive Rate', fontsize = 30)\n",
        "ax.set_ylabel('True Positive Rate', fontsize = 30)\n",
        "ax.legend(fontsize = '22')\n",
        "ax.tick_params(axis='both', which='major', labelsize=28)\n",
        "plt.grid(False)\n",
        "plt.tight_layout()\n",
        "plt.show()\n",
        "\n",
        "\n",
        "# Show the plot\n",
        "plt.show()\n",
        "\n",
        "fig.savefig('ROC_ANN_12.png', dpi=600, bbox_inches='tight')\n",
        "\n",
        "# Download the file\n",
        "files.download('ROC_ANN_12.png')\n"
      ]
    },
    {
      "cell_type": "code",
      "source": [
        "# Done with proper PCA treatement\n",
        "\n",
        "from sklearn.ensemble import RandomForestClassifier\n",
        "from sklearn.pipeline import Pipeline\n",
        "from sklearn.preprocessing import StandardScaler\n",
        "from sklearn.decomposition import PCA\n",
        "from sklearn.model_selection import StratifiedKFold, train_test_split, GridSearchCV\n",
        "\n",
        "tf.random.set_seed(42)\n",
        "\n",
        "# Assuming the data before PCA is X_clr_FMQ and y_clr_FMQ\n",
        "X_train, X_test, y_train, y_test = train_test_split(X_clr_FMQ, y_clr_FMQ, test_size=0.2, random_state=42)\n",
        "\n",
        "skf_FMQ = StratifiedKFold(n_splits=5, shuffle=True, random_state=42)\n",
        "\n",
        "# Hyperparameters to be tuned\n",
        "param_grid_rf = {\n",
        "    'rf__n_estimators': [10, 100, 1000],\n",
        "    'rf__max_depth': [10, 100, 1000],\n",
        "    'rf__min_samples_split': [2, 3, 4],\n",
        "    'rf__min_samples_leaf': [2, 3, 4],\n",
        "    'rf__criterion': ['gini', 'entropy']\n",
        "}\n",
        "\n",
        "pipeline_rf = Pipeline([\n",
        "    ('scaler', StandardScaler()),\n",
        "    ('pca', PCA(n_components=4)),\n",
        "    ('rf', RandomForestClassifier(random_state=42))\n",
        "])\n",
        "\n",
        "grid_search_rf = GridSearchCV(estimator=pipeline_rf, param_grid=param_grid_rf, cv=skf_FMQ, n_jobs=-1)\n",
        "\n",
        "# Fit the grid search to the data\n",
        "grid_result_rf = grid_search_rf.fit(X_train, y_train)\n",
        "\n",
        "print(\"Best: %f using %s\" % (grid_result_rf.best_score_, grid_result_rf.best_params_))\n"
      ],
      "metadata": {
        "colab": {
          "base_uri": "https://localhost:8080/"
        },
        "id": "jPgYzobH9ZUn",
        "outputId": "4512f507-1718-45c3-cdf0-992519628e0a"
      },
      "execution_count": null,
      "outputs": [
        {
          "output_type": "stream",
          "name": "stdout",
          "text": [
            "Best: 0.872400 using {'rf__criterion': 'entropy', 'rf__max_depth': 100, 'rf__min_samples_leaf': 3, 'rf__min_samples_split': 2, 'rf__n_estimators': 10}\n"
          ]
        }
      ]
    },
    {
      "cell_type": "code",
      "source": [
        "# Doing SKF for rf but with proper PCA treatment. Need to change hyperparams\n",
        "\n",
        "from sklearn.ensemble import RandomForestClassifier\n",
        "from sklearn.metrics import classification_report\n",
        "from sklearn.model_selection import StratifiedKFold\n",
        "from sklearn.preprocessing import StandardScaler\n",
        "from sklearn.decomposition import PCA\n",
        "import pandas as pd\n",
        "import numpy as np\n",
        "\n",
        "# Initializing scaler and PCA outside the loop\n",
        "scaler_FMQ = StandardScaler()\n",
        "pca_FMQ = PCA(n_components=4)\n",
        "\n",
        "# Initialize Stratified K Fold\n",
        "skf_FMQ = StratifiedKFold(n_splits=10, shuffle=True, random_state=42)\n",
        "\n",
        "class_report_RF_FMQ = []\n",
        "\n",
        "for train, test in skf_FMQ.split(X_clr_FMQ, y_clr_FMQ):  # Note: Use original unscaled data here\n",
        "    # 1. Split data\n",
        "    X_train, X_test = X_clr_FMQ.iloc[train], X_clr_FMQ.iloc[test]\n",
        "    y_train, y_test = y_clr_FMQ.iloc[train], y_clr_FMQ.iloc[test]\n",
        "\n",
        "    # 2. Fit scaler and PCA on training data\n",
        "    X_train_scaled = scaler_FMQ.fit_transform(X_train)\n",
        "    X_test_scaled = scaler_FMQ.transform(X_test)  # Notice we use transform, not fit_transform\n",
        "\n",
        "    X_train_pca = pca_FMQ.fit_transform(X_train_scaled)\n",
        "    X_test_pca = pca_FMQ.transform(X_test_scaled)  # Again, just transform\n",
        "\n",
        "    # 3. Train the RF model on the transformed training set\n",
        "    model_RF_FMQ = RandomForestClassifier(criterion = 'entropy', max_depth = 100,\n",
        "                                          min_samples_leaf = 3, min_samples_split = 2,\n",
        "                                          n_estimators=10, random_state=42)\n",
        "    model_RF_FMQ.fit(X_train_pca, y_train)\n",
        "\n",
        "    # 4. Evaluate on the transformed testing set\n",
        "    y_pred_RF = model_RF_FMQ.predict(X_test_pca)\n",
        "\n",
        "    report_RF = classification_report(y_test, y_pred_RF, output_dict=True)\n",
        "    class_report_RF_FMQ.append(report_RF)\n",
        "\n",
        "class0_metrics_RF_FMQ = [rep['0'] for rep in class_report_RF_FMQ]\n",
        "class1_metrics_RF_FMQ = [rep['1'] for rep in class_report_RF_FMQ]\n",
        "\n",
        "accuracy_RF_FMQ = [rep['accuracy'] for rep in class_report_RF_FMQ]\n",
        "\n",
        "mean_class0_RF_FMQ = pd.DataFrame(class0_metrics_RF_FMQ).mean()\n",
        "mean_class1_RF_FMQ = pd.DataFrame(class1_metrics_RF_FMQ).mean()\n",
        "\n",
        "mean_accuracy_RF_FMQ = np.mean(accuracy_RF_FMQ)\n",
        "\n",
        "print(\"Average metrics for Random Forest Model FMQ, Class 0:\\n\", mean_class0_RF_FMQ)\n",
        "print(\"Average metrics for Random Forest Model FMQ, Class 1:\\n\", mean_class1_RF_FMQ)\n",
        "print(\"Average accuracy for Random Forest Model FMQ:\\n\", mean_accuracy_RF_FMQ)\n"
      ],
      "metadata": {
        "id": "HqV2_x6D_vMR"
      },
      "execution_count": null,
      "outputs": []
    },
    {
      "cell_type": "code",
      "source": [
        "# Doing ROC with proper PCA treatment\n",
        "\n",
        "from sklearn.ensemble import RandomForestClassifier\n",
        "from sklearn.metrics import roc_curve, auc\n",
        "from sklearn.preprocessing import StandardScaler\n",
        "from sklearn.decomposition import PCA\n",
        "import numpy as np\n",
        "import matplotlib.pyplot as plt\n",
        "\n",
        "# Initializing scaler and PCA outside the loop\n",
        "scaler_FMQ = StandardScaler()\n",
        "pca_FMQ = PCA(n_components=4)\n",
        "\n",
        "# Create a common set of false positive rate values\n",
        "common_fpr_rf = np.linspace(0, 1, 100)\n",
        "\n",
        "# Initialize lists to hold the interpolated TPR and AUC for each fold\n",
        "avg_tpr_list_rf = []\n",
        "auc_list_rf = []\n",
        "\n",
        "for train, test in skf_FMQ.split(X_clr_FMQ, y_clr_FMQ):  # Use original unscaled data\n",
        "    # 1. Split data\n",
        "    X_train, X_test = X_clr_FMQ.iloc[train], X_clr_FMQ.iloc[test]\n",
        "    y_train, y_test = y_clr_FMQ.iloc[train], y_clr_FMQ.iloc[test]\n",
        "\n",
        "    # 2. Fit scaler and PCA on training data\n",
        "    X_train_scaled = scaler_FMQ.fit_transform(X_train)\n",
        "    X_test_scaled = scaler_FMQ.transform(X_test)\n",
        "\n",
        "    X_train_pca = pca_FMQ.fit_transform(X_train_scaled)\n",
        "    X_test_pca = pca_FMQ.transform(X_test_scaled)\n",
        "\n",
        "    # 3. Train the RF model on the transformed training set\n",
        "    model_RF = RandomForestClassifier(criterion = 'entropy', max_depth = 100, min_samples_leaf = 3,\n",
        "                                      min_samples_split = 2, n_estimators=10, random_state=42)\n",
        "    model_RF.fit(X_train_pca, y_train)\n",
        "\n",
        "    y_pred_prob = model_RF.predict_proba(X_test_pca)[:, 1]  # Probability for class label 1\n",
        "\n",
        "    # Compute ROC curve for this fold\n",
        "    fpr, tpr, _ = roc_curve(y_test, y_pred_prob, pos_label=1)\n",
        "\n",
        "    # Interpolate the TPR for the common FPR values\n",
        "    interp_tpr = np.interp(common_fpr_rf, fpr, tpr)\n",
        "    avg_tpr_list_rf.append(interp_tpr)\n",
        "\n",
        "    # Compute AUC for this fold\n",
        "    fold_auc = auc(fpr, tpr)\n",
        "    auc_list_rf.append(fold_auc)\n",
        "\n",
        "# Compute the average AUC\n",
        "avg_auc_rf = np.mean(auc_list_rf)\n",
        "\n",
        "# Compute the average interpolated TPR\n",
        "avg_tpr_rf = np.mean(avg_tpr_list_rf, axis=0)\n",
        "\n",
        "# Create the plot\n",
        "fig, ax = plt.subplots(figsize=(10,7))\n",
        "\n",
        "# Plot the average ROC curve\n",
        "ax.plot(common_fpr_rf, avg_tpr_rf, color='black', label=f'Average ROC Curve (AUC = {avg_auc_rf:.2f})')\n",
        "\n",
        "# Plot the random classifier line\n",
        "ax.plot([0, 1], [0, 1], linestyle='dashed', color='red', label='Random Classifier (AUC = 0.5)')\n",
        "\n",
        "# Plot the perfect classifier line\n",
        "ax.plot([0, 0, 1], [0, 1, 1], linestyle='dashed', color='green', label='Perfect Classifier (AUC = 1.0)')\n",
        "\n",
        "# Customize the plot\n",
        "# ax.set_title('Average ROC Curve from Stratified 10-fold Cross-Validation (Random Forest)', fontsize = 24)\n",
        "ax.set_xlabel('False Positive Rate', fontsize = 30)\n",
        "ax.set_ylabel('True Positive Rate', fontsize = 30)\n",
        "ax.legend(fontsize = '22')\n",
        "ax.tick_params(axis='both', which='major', labelsize=28)\n",
        "plt.grid(False)\n",
        "plt.tight_layout()\n",
        "\n",
        "# Show the plot\n",
        "plt.show()\n",
        "\n",
        "\n",
        "fig.savefig('ROC_RF_12.png', dpi=600, bbox_inches='tight')\n",
        "\n",
        "# Download the file\n",
        "files.download('ROC_RF_12.png')\n",
        "\n",
        "print(\"Average AUC across 10 folds:\", avg_auc_rf)\n"
      ],
      "metadata": {
        "id": "DXIIzjOeB3x_"
      },
      "execution_count": null,
      "outputs": []
    },
    {
      "cell_type": "code",
      "source": [
        "# Importing ROC from R\n",
        "\n",
        "\n",
        "\n",
        "from google.colab import files\n",
        "uploaded = files.upload()\n"
      ],
      "metadata": {
        "colab": {
          "base_uri": "https://localhost:8080/",
          "height": 73
        },
        "id": "Dixa0a85JL9L",
        "outputId": "203f039f-c619-47d1-9a42-5bbd2ee02ca6"
      },
      "execution_count": null,
      "outputs": [
        {
          "output_type": "display_data",
          "data": {
            "text/plain": [
              "<IPython.core.display.HTML object>"
            ],
            "text/html": [
              "\n",
              "     <input type=\"file\" id=\"files-cd0365b0-ed8b-447e-86e2-a7bbc6518e04\" name=\"files[]\" multiple disabled\n",
              "        style=\"border:none\" />\n",
              "     <output id=\"result-cd0365b0-ed8b-447e-86e2-a7bbc6518e04\">\n",
              "      Upload widget is only available when the cell has been executed in the\n",
              "      current browser session. Please rerun this cell to enable.\n",
              "      </output>\n",
              "      <script>// Copyright 2017 Google LLC\n",
              "//\n",
              "// Licensed under the Apache License, Version 2.0 (the \"License\");\n",
              "// you may not use this file except in compliance with the License.\n",
              "// You may obtain a copy of the License at\n",
              "//\n",
              "//      http://www.apache.org/licenses/LICENSE-2.0\n",
              "//\n",
              "// Unless required by applicable law or agreed to in writing, software\n",
              "// distributed under the License is distributed on an \"AS IS\" BASIS,\n",
              "// WITHOUT WARRANTIES OR CONDITIONS OF ANY KIND, either express or implied.\n",
              "// See the License for the specific language governing permissions and\n",
              "// limitations under the License.\n",
              "\n",
              "/**\n",
              " * @fileoverview Helpers for google.colab Python module.\n",
              " */\n",
              "(function(scope) {\n",
              "function span(text, styleAttributes = {}) {\n",
              "  const element = document.createElement('span');\n",
              "  element.textContent = text;\n",
              "  for (const key of Object.keys(styleAttributes)) {\n",
              "    element.style[key] = styleAttributes[key];\n",
              "  }\n",
              "  return element;\n",
              "}\n",
              "\n",
              "// Max number of bytes which will be uploaded at a time.\n",
              "const MAX_PAYLOAD_SIZE = 100 * 1024;\n",
              "\n",
              "function _uploadFiles(inputId, outputId) {\n",
              "  const steps = uploadFilesStep(inputId, outputId);\n",
              "  const outputElement = document.getElementById(outputId);\n",
              "  // Cache steps on the outputElement to make it available for the next call\n",
              "  // to uploadFilesContinue from Python.\n",
              "  outputElement.steps = steps;\n",
              "\n",
              "  return _uploadFilesContinue(outputId);\n",
              "}\n",
              "\n",
              "// This is roughly an async generator (not supported in the browser yet),\n",
              "// where there are multiple asynchronous steps and the Python side is going\n",
              "// to poll for completion of each step.\n",
              "// This uses a Promise to block the python side on completion of each step,\n",
              "// then passes the result of the previous step as the input to the next step.\n",
              "function _uploadFilesContinue(outputId) {\n",
              "  const outputElement = document.getElementById(outputId);\n",
              "  const steps = outputElement.steps;\n",
              "\n",
              "  const next = steps.next(outputElement.lastPromiseValue);\n",
              "  return Promise.resolve(next.value.promise).then((value) => {\n",
              "    // Cache the last promise value to make it available to the next\n",
              "    // step of the generator.\n",
              "    outputElement.lastPromiseValue = value;\n",
              "    return next.value.response;\n",
              "  });\n",
              "}\n",
              "\n",
              "/**\n",
              " * Generator function which is called between each async step of the upload\n",
              " * process.\n",
              " * @param {string} inputId Element ID of the input file picker element.\n",
              " * @param {string} outputId Element ID of the output display.\n",
              " * @return {!Iterable<!Object>} Iterable of next steps.\n",
              " */\n",
              "function* uploadFilesStep(inputId, outputId) {\n",
              "  const inputElement = document.getElementById(inputId);\n",
              "  inputElement.disabled = false;\n",
              "\n",
              "  const outputElement = document.getElementById(outputId);\n",
              "  outputElement.innerHTML = '';\n",
              "\n",
              "  const pickedPromise = new Promise((resolve) => {\n",
              "    inputElement.addEventListener('change', (e) => {\n",
              "      resolve(e.target.files);\n",
              "    });\n",
              "  });\n",
              "\n",
              "  const cancel = document.createElement('button');\n",
              "  inputElement.parentElement.appendChild(cancel);\n",
              "  cancel.textContent = 'Cancel upload';\n",
              "  const cancelPromise = new Promise((resolve) => {\n",
              "    cancel.onclick = () => {\n",
              "      resolve(null);\n",
              "    };\n",
              "  });\n",
              "\n",
              "  // Wait for the user to pick the files.\n",
              "  const files = yield {\n",
              "    promise: Promise.race([pickedPromise, cancelPromise]),\n",
              "    response: {\n",
              "      action: 'starting',\n",
              "    }\n",
              "  };\n",
              "\n",
              "  cancel.remove();\n",
              "\n",
              "  // Disable the input element since further picks are not allowed.\n",
              "  inputElement.disabled = true;\n",
              "\n",
              "  if (!files) {\n",
              "    return {\n",
              "      response: {\n",
              "        action: 'complete',\n",
              "      }\n",
              "    };\n",
              "  }\n",
              "\n",
              "  for (const file of files) {\n",
              "    const li = document.createElement('li');\n",
              "    li.append(span(file.name, {fontWeight: 'bold'}));\n",
              "    li.append(span(\n",
              "        `(${file.type || 'n/a'}) - ${file.size} bytes, ` +\n",
              "        `last modified: ${\n",
              "            file.lastModifiedDate ? file.lastModifiedDate.toLocaleDateString() :\n",
              "                                    'n/a'} - `));\n",
              "    const percent = span('0% done');\n",
              "    li.appendChild(percent);\n",
              "\n",
              "    outputElement.appendChild(li);\n",
              "\n",
              "    const fileDataPromise = new Promise((resolve) => {\n",
              "      const reader = new FileReader();\n",
              "      reader.onload = (e) => {\n",
              "        resolve(e.target.result);\n",
              "      };\n",
              "      reader.readAsArrayBuffer(file);\n",
              "    });\n",
              "    // Wait for the data to be ready.\n",
              "    let fileData = yield {\n",
              "      promise: fileDataPromise,\n",
              "      response: {\n",
              "        action: 'continue',\n",
              "      }\n",
              "    };\n",
              "\n",
              "    // Use a chunked sending to avoid message size limits. See b/62115660.\n",
              "    let position = 0;\n",
              "    do {\n",
              "      const length = Math.min(fileData.byteLength - position, MAX_PAYLOAD_SIZE);\n",
              "      const chunk = new Uint8Array(fileData, position, length);\n",
              "      position += length;\n",
              "\n",
              "      const base64 = btoa(String.fromCharCode.apply(null, chunk));\n",
              "      yield {\n",
              "        response: {\n",
              "          action: 'append',\n",
              "          file: file.name,\n",
              "          data: base64,\n",
              "        },\n",
              "      };\n",
              "\n",
              "      let percentDone = fileData.byteLength === 0 ?\n",
              "          100 :\n",
              "          Math.round((position / fileData.byteLength) * 100);\n",
              "      percent.textContent = `${percentDone}% done`;\n",
              "\n",
              "    } while (position < fileData.byteLength);\n",
              "  }\n",
              "\n",
              "  // All done.\n",
              "  yield {\n",
              "    response: {\n",
              "      action: 'complete',\n",
              "    }\n",
              "  };\n",
              "}\n",
              "\n",
              "scope.google = scope.google || {};\n",
              "scope.google.colab = scope.google.colab || {};\n",
              "scope.google.colab._files = {\n",
              "  _uploadFiles,\n",
              "  _uploadFilesContinue,\n",
              "};\n",
              "})(self);\n",
              "</script> "
            ]
          },
          "metadata": {}
        },
        {
          "output_type": "stream",
          "name": "stdout",
          "text": [
            "Saving roc_data.csv to roc_data.csv\n"
          ]
        }
      ]
    },
    {
      "cell_type": "code",
      "source": [
        "\n",
        "df = pd.read_csv(\"roc_data.csv\")"
      ],
      "metadata": {
        "id": "ATO4hVPCKJMu"
      },
      "execution_count": null,
      "outputs": []
    },
    {
      "cell_type": "code",
      "source": [
        "# Data for LogReg\n",
        "# Assuming you have FPR and TPR data in your 'df' DataFrame\n",
        "fpr = df['FPR']\n",
        "tpr = df['TPR']\n",
        "\n",
        "# Interpolate the TPR data at common FPR values\n",
        "from scipy.interpolate import interp1d\n",
        "interp_func = interp1d(fpr, tpr, kind='linear', fill_value=\"extrapolate\")\n",
        "interp_tpr = interp_func(common_fpr)\n",
        "\n",
        "# Create the plot for LogReg\n",
        "fig, ax = plt.subplots(figsize=(10,7))\n",
        "\n",
        "# Plot the average ROC curve\n",
        "ax.plot(common_fpr, interp_tpr, color='black', label=f'Average ROC Curve (AUC = 0.87)')\n",
        "\n",
        "# Plot the random classifier line\n",
        "ax.plot([0, 1], [0, 1], linestyle='dashed', color='red', label='Random Classifier (AUC = 0.5)')\n",
        "\n",
        "# Plot the perfect classifier line\n",
        "ax.plot([0, 0, 1], [0, 1, 1], linestyle='dashed', color='green', label='Perfect Classifier (AUC = 1.0)')\n",
        "\n",
        "# Customize the plot\n",
        "# ax.set_title('Average ROC Curve from 10-fold Cross-Validation (Logistic Regression)', fontsize = 24)\n",
        "ax.set_xlabel('False Positive Rate', fontsize=30)   # Increase fontsize for x-axis label\n",
        "ax.set_ylabel('True Positive Rate', fontsize=30)    # Increase fontsize for y-axis label\n",
        "ax.legend(fontsize='22')\n",
        "ax.tick_params(axis='both', which='major', labelsize=28)  # Increase fontsize for tick numbers\n",
        "plt.grid(False)\n",
        "plt.tight_layout()\n",
        "plt.show()\n",
        "\n",
        "fig.savefig('ROC_LR_12.png', dpi=600, bbox_inches='tight')\n",
        "\n",
        "# Download the file\n",
        "files.download('ROC_LR_12.png')\n"
      ],
      "metadata": {
        "id": "JstxwMZFbcEI"
      },
      "execution_count": null,
      "outputs": []
    },
    {
      "cell_type": "code",
      "source": [
        "# ROC curves all done in python now\n"
      ],
      "metadata": {
        "id": "HnM-uqRUJPK3"
      },
      "execution_count": null,
      "outputs": []
    },
    {
      "cell_type": "code",
      "execution_count": null,
      "metadata": {
        "id": "zNX4NCCxz4Sm"
      },
      "outputs": [],
      "source": [
        "# Feature importance analysis using SHAP - input = clr co-ordinates\n",
        "\n",
        "# Note how rf does have inbuilt features for feature importance analysis, but using SHAP library for consistency since this was done\n",
        "# for other models\n",
        "\n",
        "from sklearn.ensemble import RandomForestClassifier\n",
        "from sklearn.metrics import classification_report\n",
        "from sklearn.model_selection import StratifiedKFold\n",
        "from sklearn.preprocessing import StandardScaler\n",
        "from sklearn.decomposition import PCA\n",
        "import pandas as pd\n",
        "import numpy as np\n",
        "\n",
        "\n",
        "# Train Random Forest\n",
        "tf.random.set_seed(42)\n",
        "\n",
        "model_RF_clr = RandomForestClassifier(criterion = 'entropy', max_depth = 100, min_samples_leaf = 3, min_samples_split = 2,\n",
        "                                          n_estimators=10, random_state=42)\n",
        "model_RF_clr.fit(X_train_scaled_clr_FMQ, y_train_clr_FMQ)\n",
        "\n",
        "# Create SHAP explainer\n",
        "explainer_rf_clr = shap.TreeExplainer(model_RF_clr, X_train_scaled_clr_FMQ, check_additivity = False)\n",
        "\n",
        "# Compute SHAP values\n",
        "shap_values_rf_clr = explainer_rf_clr.shap_values(X_test_scaled_clr_FMQ, check_additivity = False)\n",
        "\n",
        "shap_values_rf_clr_for_class = shap_values_rf_clr[1] if model_RF_clr.n_classes_ == 2 else shap_values_rf_clr\n",
        "\n",
        "# Summary plot\n",
        "# shap.summary_plot(shap_values_rf_clr_for_class, X_test_scaled_clr_FMQ, feature_names = X_clr_FMQ.columns.tolist())\n"
      ]
    },
    {
      "cell_type": "code",
      "source": [
        "fig, ax = plt.subplots(figsize=(10, 7))\n",
        "\n",
        "shap.summary_plot(shap_values_rf_clr_for_class, X_test_scaled_clr_FMQ, feature_names = X_clr_FMQ.columns.tolist())\n",
        "\n",
        "# Check the plot in Colab directly to ensure it looks as expected\n",
        "plt.show()\n",
        "\n",
        "fig.savefig('shap_RF_final.png', dpi=300, bbox_inches='tight')\n",
        "\n",
        "from google.colab import files\n",
        "files.download('shap_RF_final.png')"
      ],
      "metadata": {
        "id": "v0y2A4j0KGwO"
      },
      "execution_count": null,
      "outputs": []
    },
    {
      "cell_type": "code",
      "source": [
        "# Compute the mean absolute SHAP values for each feature\n",
        "mean_abs_shap_values_clr_FMQ_rf = np.mean(np.abs(shap_values_rf_clr_for_class), axis=0)\n",
        "\n",
        "feature_names = X_clr_FMQ.columns.tolist()\n",
        "\n",
        "# Create a DataFrame to hold the SHAP values and feature names\n",
        "shap_df_clr_FMQ_rf = pd.DataFrame(list(zip(feature_names, mean_abs_shap_values_clr_FMQ_rf)), columns=['Feature','MeanAbsShap'])\n",
        "\n",
        "# Plot the vertical bar chart\n",
        "plt.figure(figsize=(10,6))\n",
        "plt.bar(shap_df_clr_FMQ_rf['Feature'], shap_df_clr_FMQ_rf['MeanAbsShap'], color='skyblue')\n",
        "plt.ylabel('Mean Absolute SHAP Value')\n",
        "plt.xlabel('Feature')\n",
        "plt.title('Feature Importance')\n",
        "plt.xticks(rotation=90) # Rotate the x-axis labels if they overlap\n",
        "plt.title(\"Feature Importance, Random Forest\")\n",
        "plt.show()\n"
      ],
      "metadata": {
        "id": "oI1kk_fVUUYr"
      },
      "execution_count": null,
      "outputs": []
    },
    {
      "cell_type": "code",
      "execution_count": null,
      "metadata": {
        "id": "6Q6kusqSz4dw"
      },
      "outputs": [],
      "source": [
        "### STOP"
      ]
    },
    {
      "cell_type": "code",
      "execution_count": null,
      "metadata": {
        "id": "VHjjHAsPz4hF"
      },
      "outputs": [],
      "source": []
    }
  ],
  "metadata": {
    "accelerator": "GPU",
    "colab": {
      "provenance": []
    },
    "kernelspec": {
      "display_name": "Python 3",
      "name": "python3"
    },
    "language_info": {
      "name": "python"
    }
  },
  "nbformat": 4,
  "nbformat_minor": 0
}